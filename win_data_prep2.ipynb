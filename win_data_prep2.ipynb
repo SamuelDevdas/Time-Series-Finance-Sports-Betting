{
 "cells": [
  {
   "cell_type": "code",
   "execution_count": 1,
   "metadata": {
    "editable": true,
    "slideshow": {
     "slide_type": ""
    },
    "tags": [],
    "vscode": {
     "languageId": "r"
    }
   },
   "outputs": [],
   "source": [
    "# Package installation\n",
    "# install.packages('dplyr')\n",
    "# install.packages('jsonlite')\n",
    "# install.packages('lubridate')\n",
    "# install.packages('ggplot2')\n",
    "# install.packages('quantmod')\n",
    "# install.packages('lifecycle')\n",
    "# install.packages('tidyselect')\n",
    "# install.packages(\"tidyverse\")\n",
    "# install.packages(\"zoo\")\n"
   ]
  },
  {
   "cell_type": "code",
   "execution_count": 2,
   "metadata": {
    "vscode": {
     "languageId": "r"
    }
   },
   "outputs": [
    {
     "name": "stderr",
     "output_type": "stream",
     "text": [
      "\n",
      "Attaching package: 'dplyr'\n",
      "\n",
      "\n",
      "The following objects are masked from 'package:stats':\n",
      "\n",
      "    filter, lag\n",
      "\n",
      "\n",
      "The following objects are masked from 'package:base':\n",
      "\n",
      "    intersect, setdiff, setequal, union\n",
      "\n",
      "\n",
      "\n",
      "Attaching package: 'lubridate'\n",
      "\n",
      "\n",
      "The following objects are masked from 'package:base':\n",
      "\n",
      "    date, intersect, setdiff, union\n",
      "\n",
      "\n",
      "Loading required package: xts\n",
      "\n",
      "Loading required package: zoo\n",
      "\n",
      "\n",
      "Attaching package: 'zoo'\n",
      "\n",
      "\n",
      "The following objects are masked from 'package:base':\n",
      "\n",
      "    as.Date, as.Date.numeric\n",
      "\n",
      "\n",
      "\n",
      "######################### Warning from 'xts' package ##########################\n",
      "#                                                                             #\n",
      "# The dplyr lag() function breaks how base R's lag() function is supposed to  #\n",
      "# work, which breaks lag(my_xts). Calls to lag(my_xts) that you type or       #\n",
      "# source() into this session won't work correctly.                            #\n",
      "#                                                                             #\n",
      "# Use stats::lag() to make sure you're not using dplyr::lag(), or you can add #\n",
      "# conflictRules('dplyr', exclude = 'lag') to your .Rprofile to stop           #\n",
      "# dplyr from breaking base R's lag() function.                                #\n",
      "#                                                                             #\n",
      "# Code in packages is not affected. It's protected by R's namespace mechanism #\n",
      "# Set `options(xts.warn_dplyr_breaks_lag = FALSE)` to suppress this warning.  #\n",
      "#                                                                             #\n",
      "###############################################################################\n",
      "\n",
      "\n",
      "Attaching package: 'xts'\n",
      "\n",
      "\n",
      "The following objects are masked from 'package:dplyr':\n",
      "\n",
      "    first, last\n",
      "\n",
      "\n",
      "Loading required package: TTR\n",
      "\n",
      "Registered S3 method overwritten by 'quantmod':\n",
      "  method            from\n",
      "  as.zoo.data.frame zoo \n",
      "\n",
      "── \u001b[1mAttaching core tidyverse packages\u001b[22m ──────────────────────── tidyverse 2.0.0 ──\n",
      "\u001b[32m✔\u001b[39m \u001b[34mforcats\u001b[39m 1.0.0     \u001b[32m✔\u001b[39m \u001b[34mstringr\u001b[39m 1.5.1\n",
      "\u001b[32m✔\u001b[39m \u001b[34mpurrr  \u001b[39m 1.0.2     \u001b[32m✔\u001b[39m \u001b[34mtibble \u001b[39m 3.2.1\n",
      "\u001b[32m✔\u001b[39m \u001b[34mreadr  \u001b[39m 2.1.5     \u001b[32m✔\u001b[39m \u001b[34mtidyr  \u001b[39m 1.3.1\n",
      "── \u001b[1mConflicts\u001b[22m ────────────────────────────────────────── tidyverse_conflicts() ──\n",
      "\u001b[31m✖\u001b[39m \u001b[34mdplyr\u001b[39m::\u001b[32mfilter()\u001b[39m  masks \u001b[34mstats\u001b[39m::filter()\n",
      "\u001b[31m✖\u001b[39m \u001b[34mxts\u001b[39m::\u001b[32mfirst()\u001b[39m     masks \u001b[34mdplyr\u001b[39m::first()\n",
      "\u001b[31m✖\u001b[39m \u001b[34mpurrr\u001b[39m::\u001b[32mflatten()\u001b[39m masks \u001b[34mjsonlite\u001b[39m::flatten()\n",
      "\u001b[31m✖\u001b[39m \u001b[34mdplyr\u001b[39m::\u001b[32mlag()\u001b[39m     masks \u001b[34mstats\u001b[39m::lag()\n",
      "\u001b[31m✖\u001b[39m \u001b[34mxts\u001b[39m::\u001b[32mlast()\u001b[39m      masks \u001b[34mdplyr\u001b[39m::last()\n",
      "\u001b[36mℹ\u001b[39m Use the conflicted package (\u001b[3m\u001b[34m<http://conflicted.r-lib.org/>\u001b[39m\u001b[23m) to force all conflicts to become errors\n"
     ]
    }
   ],
   "source": [
    "# Load necessary libraries\n",
    "library(dplyr)\n",
    "library(jsonlite)\n",
    "library(lubridate)\n",
    "library(ggplot2)\n",
    "library(quantmod)\n",
    "library(lifecycle)\n",
    "library(tidyselect)\n",
    "library(tidyverse)\n",
    "library(zoo)\n"
   ]
  },
  {
   "cell_type": "code",
   "execution_count": 3,
   "metadata": {
    "vscode": {
     "languageId": "r"
    }
   },
   "outputs": [],
   "source": [
    "# Read the CSV file into a dataframe\n",
    "WIN_PRO_df <- read.csv(\"csv_files/win_data_pro.csv\")\n",
    "PLACE_PRO_df <- read.csv(\"csv_files/place_data_PRO.csv\")"
   ]
  },
  {
   "cell_type": "code",
   "execution_count": 4,
   "metadata": {
    "vscode": {
     "languageId": "r"
    }
   },
   "outputs": [],
   "source": [
    "# Filter only on the rows where actual trades have been made\n",
    "WIN_PRO_df <- WIN_PRO_df %>% filter(trades != \"[]\")\n",
    "PLACE_PRO_df <- PLACE_PRO_df %>% filter(trades != \"[]\")\n",
    "\n",
    "# Remove trades column\n",
    "WIN_PRO_df <- WIN_PRO_df %>% select(-trades)\n",
    "PLACE_PRO_df <- PLACE_PRO_df %>% select(-trades)\n",
    "\n",
    "# Convert timestamp to POSIXct\n",
    "WIN_PRO_df <- WIN_PRO_df %>%\n",
    "  mutate(timestamp = as.POSIXct(timestamp_unix / 1000, origin = \"1970-01-01\", tz = \"GMT\"))\n",
    "\n",
    "PLACE_PRO_df <- PLACE_PRO_df %>%\n",
    "  mutate(timestamp = as.POSIXct(timestamp_unix / 1000, origin = \"1970-01-01\", tz = \"GMT\"))\n",
    "\n",
    "# Create a equal frequency bin for time\n",
    "WIN_PRO_df <- WIN_PRO_df %>%\n",
    "  mutate(six_sec_bucket = floor(as.numeric(timestamp) / 10))\n",
    "\n",
    "PLACE_PRO_df <- PLACE_PRO_df %>%\n",
    "  mutate(six_sec_bucket = floor(as.numeric(timestamp) / 10))\n",
    "\n",
    "# Create a size and price column. Price is set to last traded price, which is fine because we filtered out the rows with no trades.\n",
    "#Hence price is now actual trades, and size will be worked out later for each horse.\n",
    "WIN_PRO_df <- WIN_PRO_df %>%\n",
    "  mutate(\n",
    "    #size = NA,\n",
    "    price = last_traded_price\n",
    "  )\n",
    "\n",
    "PLACE_PRO_df <- PLACE_PRO_df %>%\n",
    "  mutate(\n",
    "    #size = NA,\n",
    "    price = last_traded_price\n",
    "  )\n"
   ]
  },
  {
   "cell_type": "code",
   "execution_count": 5,
   "metadata": {
    "vscode": {
     "languageId": "r"
    }
   },
   "outputs": [],
   "source": [
    "###Check horse IDS\n",
    "# Read the horse name data into a dataframe\n",
    "horse_names_df <- data.frame(\n",
    "  horse_id = c(8421889, 7560122, 5465145, 3415981, 5105924, 7401388),\n",
    "  horse_name = c(\"Romsdal\", \"Brown Panther\", \"Havana Beat\", \"Times Up\", \"Snow Sky\", \"Island Remede\")\n",
    ")"
   ]
  },
  {
   "cell_type": "code",
   "execution_count": 6,
   "metadata": {
    "vscode": {
     "languageId": "r"
    }
   },
   "outputs": [],
   "source": [
    "# Join the horse name data with the main dataframe\n",
    "WIN_PRO_df <- WIN_PRO_df %>%\n",
    "  left_join(horse_names_df, by = c(\"horse_id\" = \"horse_id\"))\n",
    "\n",
    "PLACE_PRO_df <- PLACE_PRO_df %>%\n",
    "  left_join(horse_names_df, by = c(\"horse_id\" = \"horse_id\"))"
   ]
  },
  {
   "cell_type": "code",
   "execution_count": 7,
   "metadata": {
    "vscode": {
     "languageId": "r"
    }
   },
   "outputs": [],
   "source": [
    "# Important instances to split df\n",
    "PP_t <- \"2015-05-15 16:08:00\"\n",
    "IP_t <- \"2015-05-15 16:16:00\"\n",
    "\n",
    "# Split the data frame into three parts based on the given times\n",
    "WIN_PRO_df_Morning <- WIN_PRO_df %>% filter(timestamp < PP_t)\n",
    "WIN_PRO_df_PP <- WIN_PRO_df %>% filter(timestamp >= PP_t & timestamp < IP_t)\n",
    "WIN_PRO_df_IP <- WIN_PRO_df %>% filter(timestamp >= IP_t)\n",
    "\n",
    "PLACE_PRO_df_Morning <- PLACE_PRO_df %>% filter(timestamp < PP_t)\n",
    "PLACE_PRO_df_PP <- PLACE_PRO_df %>% filter(timestamp >= PP_t & timestamp < IP_t)\n",
    "PLACE_PRO_df_IP <- PLACE_PRO_df %>% filter(timestamp >= IP_t)"
   ]
  },
  {
   "cell_type": "code",
   "execution_count": 8,
   "metadata": {
    "vscode": {
     "languageId": "r"
    }
   },
   "outputs": [
    {
     "data": {
      "image/png": "[encoded data removed]",
      "text/plain": [
       "plot without title"
      ]
     },
     "metadata": {
      "image/png": {
       "height": 420,
       "width": 420
      }
     },
     "output_type": "display_data"
    },
    {
     "data": {
      "image/png": "[encoded data removed]",
      "text/plain": [
       "plot without title"
      ]
     },
     "metadata": {
      "image/png": {
       "height": 420,
       "width": 420
      }
     },
     "output_type": "display_data"
    },
    {
     "data": {
      "image/png": "[encoded data removed]",
      "text/plain": [
       "plot without title"
      ]
     },
     "metadata": {
      "image/png": {
       "height": 420,
       "width": 420
      }
     },
     "output_type": "display_data"
    },
    {
     "data": {
      "image/png": "[encoded data removed]",
      "text/plain": [
       "plot without title"
      ]
     },
     "metadata": {
      "image/png": {
       "height": 420,
       "width": 420
      }
     },
     "output_type": "display_data"
    },
    {
     "data": {
      "image/png": "[encoded data removed]",
      "text/plain": [
       "plot without title"
      ]
     },
     "metadata": {
      "image/png": {
       "height": 420,
       "width": 420
      }
     },
     "output_type": "display_data"
    },
    {
     "data": {
      "image/png": "[encoded data removed]",
      "text/plain": [
       "plot without title"
      ]
     },
     "metadata": {
      "image/png": {
       "height": 420,
       "width": 420
      }
     },
     "output_type": "display_data"
    }
   ],
   "source": [
    "  par(mfrow = c(2, 3))\n",
    "\n",
    "# Loop through each horse and create a plot and save dataframe for WIN_PRO_df\n",
    "for (horse in unique(WIN_PRO_df$horse_name)) {\n",
    "  horse_df <- WIN_PRO_df_PP %>% filter(horse_name == horse)\n",
    "  \n",
    "  # Calculate the size column for each horse within the loop\n",
    "  #horse_df <- horse_df %>%\n",
    "    #arrange(timestamp) %>%\n",
    "    #mutate(size = traded_volume - lag(traded_volume, default = first(traded_volume)),\n",
    "           #size = ifelse(size < 0, 0, size))\n",
    "  \n",
    "  # Group by six_sec_bucket and calculate the size and Mean Price\n",
    "  horse_df <- horse_df %>%\n",
    "    group_by(six_sec_bucket) %>%\n",
    "    summarise(\n",
    "      #total_size = sum(size, na.rm = TRUE),\n",
    "      mean_price = mean(price, na.rm = TRUE)\n",
    "    )\n",
    "  \n",
    "  # Save the horse-specific dataframe to a variable named after the horse\n",
    "  assign(paste0(gsub(\" \", \"_\", horse), \"_WIN_df\"), horse_df)\n",
    "\n",
    "\n",
    "  # Partition the plot panel 2 rows and 3 column\n",
    "\n",
    "\n",
    "\n",
    "\n",
    "  \n",
    "  # Create the plot with only price\n",
    "  p <- ggplot(data = horse_df, aes(x = as.POSIXct(six_sec_bucket * 10, origin = \"1970-01-01\", tz = \"GMT\"), y = mean_price)) +\n",
    "    geom_line() +\n",
    "    geom_point() +\n",
    "    labs(\n",
    "      title = paste(\"WIN market Price Over Time for\", horse),\n",
    "      x = \"Time\",\n",
    "      y = \"Mean Price\"\n",
    "    ) +\n",
    "    theme_minimal() +\n",
    "    theme(\n",
    "      axis.text.x = element_text(angle = 45, hjust = 1),\n",
    "      legend.position = \"bottom\"\n",
    "    ) +\n",
    "    scale_x_datetime(date_breaks = \"1 min\", date_labels = \"%H:%M\")\n",
    "  \n",
    "  # Print the plot\n",
    "  print(p)\n",
    "}\n",
    "  "
   ]
  },
  {
   "cell_type": "code",
   "execution_count": 9,
   "metadata": {
    "vscode": {
     "languageId": "r"
    }
   },
   "outputs": [
    {
     "data": {
      "image/png": "[encoded data removed]",
      "text/plain": [
       "plot without title"
      ]
     },
     "metadata": {
      "image/png": {
       "height": 420,
       "width": 420
      }
     },
     "output_type": "display_data"
    },
    {
     "data": {
      "image/png": "[encoded data removed]",
      "text/plain": [
       "plot without title"
      ]
     },
     "metadata": {
      "image/png": {
       "height": 420,
       "width": 420
      }
     },
     "output_type": "display_data"
    },
    {
     "data": {
      "image/png": "[encoded data removed]",
      "text/plain": [
       "plot without title"
      ]
     },
     "metadata": {
      "image/png": {
       "height": 420,
       "width": 420
      }
     },
     "output_type": "display_data"
    },
    {
     "data": {
      "image/png": "[encoded data removed]",
      "text/plain": [
       "plot without title"
      ]
     },
     "metadata": {
      "image/png": {
       "height": 420,
       "width": 420
      }
     },
     "output_type": "display_data"
    },
    {
     "data": {
      "image/png": "[encoded data removed]",
      "text/plain": [
       "plot without title"
      ]
     },
     "metadata": {
      "image/png": {
       "height": 420,
       "width": 420
      }
     },
     "output_type": "display_data"
    },
    {
     "data": {
      "image/png": "[encoded data removed]",
      "text/plain": [
       "plot without title"
      ]
     },
     "metadata": {
      "image/png": {
       "height": 420,
       "width": 420
      }
     },
     "output_type": "display_data"
    }
   ],
   "source": [
    "# Loop through each horse and create a plot and save dataframe for PLACE_PRO_df\n",
    "for (horse in unique(PLACE_PRO_df$horse_name)) {\n",
    "  horse_df <- PLACE_PRO_df_PP %>% filter(horse_name == horse)\n",
    "  \n",
    "  # Calculate the size column for each horse within the loop\n",
    "  #horse_df <- horse_df %>%\n",
    "    #arrange(timestamp) %>%\n",
    "    #mutate(size = traded_volume - lag(traded_volume, default = first(traded_volume)),\n",
    "           #size = ifelse(size < 0, 0, size))\n",
    "  \n",
    "  # Group by six_sec_bucket and calculate the size and Mean Price\n",
    "  horse_df <- horse_df %>%\n",
    "    group_by(six_sec_bucket) %>%\n",
    "    summarise(\n",
    "      #total_size = sum(size, na.rm = TRUE),\n",
    "      #mean_price = sum(price * size, na.rm = TRUE) / sum(size, na.rm = TRUE)\n",
    "      mean_price = mean(price, na.rm = TRUE)\n",
    "    )\n",
    "  \n",
    "  # Save the horse-specific dataframe to a variable named after the horse\n",
    "  assign(paste0(gsub(\" \", \"_\", horse), \"_PLACE_df\"), horse_df)\n",
    "  \n",
    "  # Create the plot with only price\n",
    "  p <- ggplot(data = horse_df, aes(x = as.POSIXct(six_sec_bucket * 10, origin = \"1970-01-01\", tz = \"GMT\"), y = mean_price)) +\n",
    "    geom_line() +\n",
    "    geom_point() +\n",
    "    labs(\n",
    "      title = paste(\"PLACE market Price Over Time for\", horse),\n",
    "      x = \"Time\",\n",
    "      y = \"Mean Price\"\n",
    "    ) +\n",
    "    theme_minimal() +\n",
    "    theme(\n",
    "      axis.text.x = element_text(angle = 45, hjust = 1),\n",
    "      legend.position = \"bottom\"\n",
    "    ) +\n",
    "    scale_x_datetime(date_breaks = \"1 min\", date_labels = \"%H:%M\")\n",
    "  \n",
    "  # Print the plot\n",
    "  print(p)\n",
    "}"
   ]
  },
  {
   "cell_type": "markdown",
   "metadata": {},
   "source": [
    "### EXPLORATORY DATA ANALYSIS WIN MARKET (SELECTING SNOW SKY)\n"
   ]
  },
  {
   "cell_type": "code",
   "execution_count": 10,
   "metadata": {
    "vscode": {
     "languageId": "r"
    }
   },
   "outputs": [
    {
     "data": {
      "text/html": [
       "<table class=\"dataframe\">\n",
       "<caption>A tibble: 6 × 2</caption>\n",
       "<thead>\n",
       "\t<tr><th scope=col>six_sec_bucket</th><th scope=col>mean_price</th></tr>\n",
       "\t<tr><th scope=col>&lt;dbl&gt;</th><th scope=col>&lt;dbl&gt;</th></tr>\n",
       "</thead>\n",
       "<tbody>\n",
       "\t<tr><td>143169888</td><td>3.067105</td></tr>\n",
       "\t<tr><td>143169889</td><td>3.042593</td></tr>\n",
       "\t<tr><td>143169890</td><td>3.013636</td></tr>\n",
       "\t<tr><td>143169891</td><td>3.008537</td></tr>\n",
       "\t<tr><td>143169892</td><td>3.006522</td></tr>\n",
       "\t<tr><td>143169893</td><td>3.025000</td></tr>\n",
       "</tbody>\n",
       "</table>\n"
      ],
      "text/latex": [
       "A tibble: 6 × 2\n",
       "\\begin{tabular}{ll}\n",
       " six\\_sec\\_bucket & mean\\_price\\\\\n",
       " <dbl> & <dbl>\\\\\n",
       "\\hline\n",
       "\t 143169888 & 3.067105\\\\\n",
       "\t 143169889 & 3.042593\\\\\n",
       "\t 143169890 & 3.013636\\\\\n",
       "\t 143169891 & 3.008537\\\\\n",
       "\t 143169892 & 3.006522\\\\\n",
       "\t 143169893 & 3.025000\\\\\n",
       "\\end{tabular}\n"
      ],
      "text/markdown": [
       "\n",
       "A tibble: 6 × 2\n",
       "\n",
       "| six_sec_bucket &lt;dbl&gt; | mean_price &lt;dbl&gt; |\n",
       "|---|---|\n",
       "| 143169888 | 3.067105 |\n",
       "| 143169889 | 3.042593 |\n",
       "| 143169890 | 3.013636 |\n",
       "| 143169891 | 3.008537 |\n",
       "| 143169892 | 3.006522 |\n",
       "| 143169893 | 3.025000 |\n",
       "\n"
      ],
      "text/plain": [
       "  six_sec_bucket mean_price\n",
       "1 143169888      3.067105  \n",
       "2 143169889      3.042593  \n",
       "3 143169890      3.013636  \n",
       "4 143169891      3.008537  \n",
       "5 143169892      3.006522  \n",
       "6 143169893      3.025000  "
      ]
     },
     "metadata": {},
     "output_type": "display_data"
    },
    {
     "data": {
      "text/html": [
       "<table class=\"dataframe\">\n",
       "<caption>A tibble: 6 × 2</caption>\n",
       "<thead>\n",
       "\t<tr><th scope=col>six_sec_bucket</th><th scope=col>mean_price</th></tr>\n",
       "\t<tr><th scope=col>&lt;dbl&gt;</th><th scope=col>&lt;dbl&gt;</th></tr>\n",
       "</thead>\n",
       "<tbody>\n",
       "\t<tr><td>143169888</td><td>1.646667</td></tr>\n",
       "\t<tr><td>143169889</td><td>1.656667</td></tr>\n",
       "\t<tr><td>143169890</td><td>1.640000</td></tr>\n",
       "\t<tr><td>143169891</td><td>1.625000</td></tr>\n",
       "\t<tr><td>143169892</td><td>1.612857</td></tr>\n",
       "\t<tr><td>143169893</td><td>1.620000</td></tr>\n",
       "</tbody>\n",
       "</table>\n"
      ],
      "text/latex": [
       "A tibble: 6 × 2\n",
       "\\begin{tabular}{ll}\n",
       " six\\_sec\\_bucket & mean\\_price\\\\\n",
       " <dbl> & <dbl>\\\\\n",
       "\\hline\n",
       "\t 143169888 & 1.646667\\\\\n",
       "\t 143169889 & 1.656667\\\\\n",
       "\t 143169890 & 1.640000\\\\\n",
       "\t 143169891 & 1.625000\\\\\n",
       "\t 143169892 & 1.612857\\\\\n",
       "\t 143169893 & 1.620000\\\\\n",
       "\\end{tabular}\n"
      ],
      "text/markdown": [
       "\n",
       "A tibble: 6 × 2\n",
       "\n",
       "| six_sec_bucket &lt;dbl&gt; | mean_price &lt;dbl&gt; |\n",
       "|---|---|\n",
       "| 143169888 | 1.646667 |\n",
       "| 143169889 | 1.656667 |\n",
       "| 143169890 | 1.640000 |\n",
       "| 143169891 | 1.625000 |\n",
       "| 143169892 | 1.612857 |\n",
       "| 143169893 | 1.620000 |\n",
       "\n"
      ],
      "text/plain": [
       "  six_sec_bucket mean_price\n",
       "1 143169888      1.646667  \n",
       "2 143169889      1.656667  \n",
       "3 143169890      1.640000  \n",
       "4 143169891      1.625000  \n",
       "5 143169892      1.612857  \n",
       "6 143169893      1.620000  "
      ]
     },
     "metadata": {},
     "output_type": "display_data"
    }
   ],
   "source": [
    "head(Snow_Sky_WIN_df)\n",
    "head(Snow_Sky_PLACE_df)"
   ]
  },
  {
   "cell_type": "code",
   "execution_count": 11,
   "metadata": {
    "vscode": {
     "languageId": "r"
    }
   },
   "outputs": [],
   "source": [
    "# Load necessary libraries\n",
    "library(tidyverse)\n",
    "library(lubridate)\n",
    "library(ggplot2)\n",
    "library(forecast)\n",
    "library(tseries)\n",
    "\n",
    "\n",
    "####THIS FILTERING IS NOT REQUIRED, Snow_Sky_WIN_df is already prepared\n",
    "\n",
    "# Assuming 'horse_trading_data' is your dataset containing all the trading information.\n",
    "\n",
    "# Step 1: Data Preparation\n",
    "# Filter the dataset for the horse named \"Snow Sky Bird\"\n",
    "#snow_sky_df <- Snow_Sky_WIN_df %>%\n",
    "  #filter(horse_name == \"Snow Sky\")\n",
    "\n",
    "# Convert timestamps to proper datetime format if necessary\n",
    "#snow_sky_df$timestamp <- as.POSIXct(snow_sky_df$timestamp, format=\"%Y-%m-%d %H:%M:%S\")\n",
    "\n",
    "# Ensure data is sorted by timestamp\n",
    "#snow_sky_df <- arrange(snow_sky_df, timestamp)\n",
    "\n",
    "\n",
    "\n",
    "\n"
   ]
  },
  {
   "cell_type": "code",
   "execution_count": 12,
   "metadata": {
    "vscode": {
     "languageId": "r"
    }
   },
   "outputs": [
    {
     "name": "stdout",
     "output_type": "stream",
     "text": [
      "   Min. 1st Qu.  Median    Mean 3rd Qu.    Max. \n",
      "  2.745   2.767   2.851   2.882   3.004   3.111 \n",
      "   Min. 1st Qu.  Median    Mean 3rd Qu.    Max. \n",
      "  1.507   1.540   1.568   1.572   1.608   1.657 \n"
     ]
    }
   ],
   "source": [
    "# Step 2: Data Exploration\n",
    "# Summary statistics of key variables\n",
    "\n",
    "print(summary(Snow_Sky_WIN_df$mean_price))\n",
    "print(summary(Snow_Sky_PLACE_df$mean_price))"
   ]
  },
  {
   "cell_type": "code",
   "execution_count": 13,
   "metadata": {
    "vscode": {
     "languageId": "r"
    }
   },
   "outputs": [
    {
     "name": "stdout",
     "output_type": "stream",
     "text": [
      "[1] 0\n",
      "[1] 0\n",
      "[1] 0\n",
      "[1] 0\n"
     ]
    }
   ],
   "source": [
    "# Check for missing values\n",
    "print(sum(is.na(Snow_Sky_WIN_df$mean_price)))\n",
    "print(sum(is.na(Snow_Sky_PLACE_df$mean_price)))\n",
    "\n",
    "# Check duplicate rows\n",
    "print(sum(duplicated(Snow_Sky_WIN_df)))\n",
    "print(sum(duplicated(Snow_Sky_PLACE_df)))"
   ]
  },
  {
   "cell_type": "code",
   "execution_count": 14,
   "metadata": {
    "vscode": {
     "languageId": "r"
    }
   },
   "outputs": [
    {
     "name": "stdout",
     "output_type": "stream",
     "text": [
      "tibble [48 × 2] (S3: tbl_df/tbl/data.frame)\n",
      " $ six_sec_bucket: num [1:48] 1.43e+08 1.43e+08 1.43e+08 1.43e+08 1.43e+08 ...\n",
      " $ mean_price    : num [1:48] 3.07 3.04 3.01 3.01 3.01 ...\n",
      "tibble [48 × 2] (S3: tbl_df/tbl/data.frame)\n",
      " $ six_sec_bucket: num [1:48] 1.43e+08 1.43e+08 1.43e+08 1.43e+08 1.43e+08 ...\n",
      " $ mean_price    : num [1:48] 1.65 1.66 1.64 1.62 1.61 ...\n"
     ]
    }
   ],
   "source": [
    "str(Snow_Sky_WIN_df)\n",
    "str(Snow_Sky_PLACE_df)"
   ]
  },
  {
   "cell_type": "code",
   "execution_count": 15,
   "metadata": {
    "vscode": {
     "languageId": "r"
    }
   },
   "outputs": [],
   "source": [
    "#USE NEXT CELL\n",
    "\n",
    "# Extract the price data\n",
    "#price_data <- Snow_Sky_WIN_df$mean_price\n",
    "\n",
    "# Create a time series object with a frequency of 1 observation per second\n",
    "#win_price_ts <- ts(price_data, frequency = 1, start = c(2015, as.numeric(format(min(Snow_Sky_WIN_df$six_sec_bucket), \"%j\"))))\n",
    "\n",
    "# Check the structure of the time series object\n",
    "#str(win_price_ts)\n",
    "\n",
    "\n",
    "\n",
    "#head(win_price_ts)"
   ]
  },
  {
   "cell_type": "code",
   "execution_count": 16,
   "metadata": {
    "vscode": {
     "languageId": "r"
    }
   },
   "outputs": [
    {
     "data": {
      "text/plain": [
       "   Min. 1st Qu.  Median    Mean 3rd Qu.    Max. \n",
       "  2.745   2.767   2.851   2.882   3.004   3.111 "
      ]
     },
     "metadata": {},
     "output_type": "display_data"
    },
    {
     "name": "stdout",
     "output_type": "stream",
     "text": [
      " Time-Series [1:48] from 1 to 5.7: 3.07 3.04 3.01 3.01 3.01 ...\n"
     ]
    },
    {
     "data": {
      "text/html": [
       "48"
      ],
      "text/latex": [
       "48"
      ],
      "text/markdown": [
       "48"
      ],
      "text/plain": [
       "[1] 48"
      ]
     },
     "metadata": {},
     "output_type": "display_data"
    },
    {
     "data": {
      "text/html": [
       "A Time Series:<br><style>\n",
       ".list-inline {list-style: none; margin:0; padding: 0}\n",
       ".list-inline>li {display: inline-block}\n",
       ".list-inline>li:not(:last-child)::after {content: \"\\00b7\"; padding: 0 .5ex}\n",
       "</style>\n",
       "<ol class=list-inline><li>3.06710526315789</li><li>3.04259259259259</li><li>3.01363636363636</li><li>3.00853658536585</li><li>3.00652173913043</li><li>3.025</li></ol>\n"
      ],
      "text/latex": [
       "A Time Series:\\\\\\begin{enumerate*}\n",
       "\\item 3.06710526315789\n",
       "\\item 3.04259259259259\n",
       "\\item 3.01363636363636\n",
       "\\item 3.00853658536585\n",
       "\\item 3.00652173913043\n",
       "\\item 3.025\n",
       "\\end{enumerate*}\n"
      ],
      "text/markdown": [
       "A Time Series:  \n",
       "1. 3.06710526315789\n",
       "2. 3.04259259259259\n",
       "3. 3.01363636363636\n",
       "4. 3.00853658536585\n",
       "5. 3.00652173913043\n",
       "6. 3.025\n",
       "\n",
       "\n"
      ],
      "text/plain": [
       "A Time Series:\n",
       "[1] 3.067105 3.042593 3.013636 3.008537 3.006522 3.025000"
      ]
     },
     "metadata": {},
     "output_type": "display_data"
    }
   ],
   "source": [
    "# Convert 'six_sec_bucket' to POSIXct for proper time handling\n",
    "Snow_Sky_WIN_df <- Snow_Sky_WIN_df %>%\n",
    "  mutate(timestamp = as.POSIXct(six_sec_bucket * 10, origin = \"1970-01-01\", tz = \"GMT\"))\n",
    "\n",
    "# Check the range of the timestamp\n",
    "start_time <- min(Snow_Sky_WIN_df$timestamp)\n",
    "end_time <- max(Snow_Sky_WIN_df$timestamp)\n",
    "\n",
    "# Create a sequence of time points from start to end with a step of 6 seconds\n",
    "time_points <- seq(from = start_time, to = end_time, by = \"10 sec\")\n",
    "\n",
    "# Create a complete data frame with these time points\n",
    "complete_data <- data.frame(timestamp = time_points)\n",
    "\n",
    "# Merge with the original data to ensure alignment\n",
    "complete_data <- complete_data %>%\n",
    "  left_join(Snow_Sky_WIN_df, by = \"timestamp\")\n",
    "\n",
    "# Fill missing prices with NA or any other method if necessary\n",
    "complete_data <- complete_data %>%\n",
    "  mutate(mean_price = ifelse(is.na(mean_price), NA, mean_price))\n",
    "\n",
    "# Check the filled price data\n",
    "summary(complete_data$mean_price)\n",
    "\n",
    "# Extract the filled price data\n",
    "filled_price_data <- complete_data$mean_price\n",
    "\n",
    "# Create the time series object\n",
    "# Use a lower frequency to match the length of the time series\n",
    "# For example, assuming a reasonable periodicity within the data length\n",
    "win_price_ts <- ts(filled_price_data, frequency = 10)\n",
    "\n",
    "# Check the structure and length of the time series object\n",
    "str(win_price_ts)\n",
    "length(win_price_ts)\n",
    "\n",
    "# Display the first few entries of the time series object\n",
    "head(win_price_ts)\n",
    "\n"
   ]
  },
  {
   "cell_type": "code",
   "execution_count": 17,
   "metadata": {
    "vscode": {
     "languageId": "r"
    }
   },
   "outputs": [
    {
     "data": {
      "text/plain": [
       "   Min. 1st Qu.  Median    Mean 3rd Qu.    Max. \n",
       "  1.507   1.540   1.568   1.572   1.608   1.657 "
      ]
     },
     "metadata": {},
     "output_type": "display_data"
    },
    {
     "name": "stdout",
     "output_type": "stream",
     "text": [
      " Time-Series [1:48] from 1 to 5.7: 1.65 1.66 1.64 1.62 1.61 ...\n"
     ]
    },
    {
     "data": {
      "text/html": [
       "48"
      ],
      "text/latex": [
       "48"
      ],
      "text/markdown": [
       "48"
      ],
      "text/plain": [
       "[1] 48"
      ]
     },
     "metadata": {},
     "output_type": "display_data"
    },
    {
     "data": {
      "text/html": [
       "A Time Series:<br><style>\n",
       ".list-inline {list-style: none; margin:0; padding: 0}\n",
       ".list-inline>li {display: inline-block}\n",
       ".list-inline>li:not(:last-child)::after {content: \"\\00b7\"; padding: 0 .5ex}\n",
       "</style>\n",
       "<ol class=list-inline><li>1.64666666666667</li><li>1.65666666666667</li><li>1.64</li><li>1.625</li><li>1.61285714285714</li><li>1.62</li></ol>\n"
      ],
      "text/latex": [
       "A Time Series:\\\\\\begin{enumerate*}\n",
       "\\item 1.64666666666667\n",
       "\\item 1.65666666666667\n",
       "\\item 1.64\n",
       "\\item 1.625\n",
       "\\item 1.61285714285714\n",
       "\\item 1.62\n",
       "\\end{enumerate*}\n"
      ],
      "text/markdown": [
       "A Time Series:  \n",
       "1. 1.64666666666667\n",
       "2. 1.65666666666667\n",
       "3. 1.64\n",
       "4. 1.625\n",
       "5. 1.61285714285714\n",
       "6. 1.62\n",
       "\n",
       "\n"
      ],
      "text/plain": [
       "A Time Series:\n",
       "[1] 1.646667 1.656667 1.640000 1.625000 1.612857 1.620000"
      ]
     },
     "metadata": {},
     "output_type": "display_data"
    }
   ],
   "source": [
    "# Convert 'six_sec_bucket' to POSIXct for proper time handling\n",
    "Snow_Sky_PLACE_df <- Snow_Sky_PLACE_df %>%\n",
    "  mutate(timestamp = as.POSIXct(six_sec_bucket * 10, origin = \"1970-01-01\", tz = \"GMT\"))\n",
    "\n",
    "# Check the range of the timestamp\n",
    "start_time <- min(Snow_Sky_PLACE_df$timestamp)\n",
    "end_time <- max(Snow_Sky_PLACE_df$timestamp)\n",
    "\n",
    "# Create a sequence of time points from start to end with a step of 6 seconds\n",
    "time_points <- seq(from = start_time, to = end_time, by = \"10 sec\")\n",
    "\n",
    "# Create a complete data frame with these time points\n",
    "complete_data <- data.frame(timestamp = time_points)\n",
    "\n",
    "# Merge with the original data to ensure alignment\n",
    "complete_data <- complete_data %>%\n",
    "  left_join(Snow_Sky_PLACE_df, by = \"timestamp\")\n",
    "\n",
    "# Fill missing prices with NA or any other method if necessary\n",
    "complete_data <- complete_data %>%\n",
    "  mutate(mean_price = ifelse(is.na(mean_price), NA, mean_price))\n",
    "\n",
    "# Check the filled price data\n",
    "summary(complete_data$mean_price)\n",
    "\n",
    "# Extract the filled price data\n",
    "filled_price_data <- complete_data$mean_price\n",
    "\n",
    "# Create the time series object\n",
    "# Use a lower frequency to match the length of the time series\n",
    "# For example, assuming a reasonable periodicity within the data length\n",
    "PLACE_price_ts <- ts(filled_price_data, frequency = 10)\n",
    "\n",
    "# Check the structure and length of the time series object\n",
    "str(PLACE_price_ts)\n",
    "length(PLACE_price_ts)\n",
    "\n",
    "# Display the first few entries of the time series object\n",
    "head(PLACE_price_ts)"
   ]
  },
  {
   "cell_type": "code",
   "execution_count": 18,
   "metadata": {
    "vscode": {
     "languageId": "r"
    }
   },
   "outputs": [
    {
     "data": {
      "image/png": "[encoded data removed]",
      "text/plain": [
       "Plot with title \"Win Price Time Series for Snow Sky\""
      ]
     },
     "metadata": {
      "image/png": {
       "height": 420,
       "width": 420
      }
     },
     "output_type": "display_data"
    }
   ],
   "source": [
    "plot(win_price_ts, main=\"Win Price Time Series for Snow Sky\", xlab=\"Time\", ylab=\"Price\", type=\"l\")\n"
   ]
  },
  {
   "cell_type": "code",
   "execution_count": 19,
   "metadata": {
    "vscode": {
     "languageId": "r"
    }
   },
   "outputs": [
    {
     "data": {
      "image/png": "[encoded data removed]",
      "text/plain": [
       "Plot with title \"PLACE Price Time Series for Snow Sky\""
      ]
     },
     "metadata": {
      "image/png": {
       "height": 420,
       "width": 420
      }
     },
     "output_type": "display_data"
    }
   ],
   "source": [
    "plot(PLACE_price_ts, main=\"PLACE Price Time Series for Snow Sky\", xlab=\"Time\", ylab=\"Price\", type=\"l\")"
   ]
  },
  {
   "cell_type": "code",
   "execution_count": 20,
   "metadata": {
    "vscode": {
     "languageId": "r"
    }
   },
   "outputs": [
    {
     "name": "stdout",
     "output_type": "stream",
     "text": [
      "\n",
      "\tAugmented Dickey-Fuller Test\n",
      "\n",
      "data:  win_price_ts\n",
      "Dickey-Fuller = -1.6289, Lag order = 3, p-value = 0.7223\n",
      "alternative hypothesis: stationary\n",
      "\n",
      "\n",
      "\tAugmented Dickey-Fuller Test\n",
      "\n",
      "data:  PLACE_price_ts\n",
      "Dickey-Fuller = -1.3241, Lag order = 3, p-value = 0.844\n",
      "alternative hypothesis: stationary\n",
      "\n"
     ]
    }
   ],
   "source": [
    "# Step 4: Statistical Tests\n",
    "# Testing for stationarity\n",
    "adf_test_result <- adf.test(win_price_ts, alternative = \"stationary\")\n",
    "print(adf_test_result)\n",
    "\n",
    "adf_test_result_2 <- adf.test(PLACE_price_ts, alternative = \"stationary\")\n",
    "print(adf_test_result_2)\n",
    "\n"
   ]
  },
  {
   "cell_type": "markdown",
   "metadata": {},
   "source": [
    "Its not stationary. Therefore we need to break it down and to understand the underlying components.\n"
   ]
  },
  {
   "cell_type": "code",
   "execution_count": 21,
   "metadata": {
    "vscode": {
     "languageId": "r"
    }
   },
   "outputs": [],
   "source": [
    "#NOT SURE IF THIS IS REQUIRED?\n",
    "# Enhanced boxplot visualization of monthly price distribution per year\n",
    "# Snow_Sky_WIN_df %>%\n",
    "#   mutate(year = year(timestamp), month = month(timestamp), month_name = month(timestamp, label = TRUE)) %>%\n",
    "#   ggplot(aes(x = month_name, y = price, fill = month_name)) +  # Use month name and fill by month\n",
    "#   geom_boxplot(outlier.shape = NA) +  # Remove default outlier points\n",
    "#   geom_jitter(width = 0.1, alpha = 0.5, color = \"darkgray\") +  # Add jittered points for individual data observation\n",
    "#   scale_fill_brewer(palette = \"Paired\") +  # Apply a color palette for aesthetics\n",
    "#   labs(title = \"Price Distribution \",\n",
    "#        subtitle = \"Snow Sky\",) +\n",
    "#   facet_wrap(~year) +  # Facet by year to see year-wise trends\n",
    "#   theme_minimal() +  # Use a minimal theme\n",
    "#   theme(\n",
    "#     strip.background = element_rect(fill = \"lightblue\", color = \"deepskyblue\", size = 1),  # Customize facet headers\n",
    "#     strip.text = element_text(face = \"bold\"),  # Bold facet header text\n",
    "#     axis.text.x = element_text(angle = 45, hjust = 1),  # Improve x-axis label readability\n",
    "#     legend.position = \"none\",  # Hide the legend as the color is self-explanatory\n",
    "#     plot.title = element_text(hjust = 0.5),  # Center the title\n",
    "#     plot.subtitle = element_text(hjust = 0.5)  # Center the subtitle\n",
    "#   )\n"
   ]
  },
  {
   "cell_type": "code",
   "execution_count": 22,
   "metadata": {
    "vscode": {
     "languageId": "r"
    }
   },
   "outputs": [
    {
     "name": "stderr",
     "output_type": "stream",
     "text": [
      "\n",
      "Attaching package: 'tsibble'\n",
      "\n",
      "\n",
      "The following object is masked from 'package:zoo':\n",
      "\n",
      "    index\n",
      "\n",
      "\n",
      "The following object is masked from 'package:lubridate':\n",
      "\n",
      "    interval\n",
      "\n",
      "\n",
      "The following objects are masked from 'package:base':\n",
      "\n",
      "    intersect, setdiff, union\n",
      "\n",
      "\n",
      "Loading required package: fabletools\n",
      "\n"
     ]
    }
   ],
   "source": [
    "# Step 5: Decomposition of Time Series (if seasonal patterns expected)\n",
    "\n",
    "# Install necessary packages if not already installed\n",
    "# install.packages(\"tsibble\")\n",
    "# install.packages(\"feasts\")\n",
    "# install.packages(\"fabletools\")\n",
    "\n",
    "# Load necessary libraries\n",
    "library(tidyverse)\n",
    "library(lubridate)\n",
    "library(tsibble)\n",
    "library(feasts)\n",
    "library(fabletools)\n",
    "\n",
    "\n",
    "\n",
    "\n"
   ]
  },
  {
   "cell_type": "code",
   "execution_count": 23,
   "metadata": {
    "vscode": {
     "languageId": "r"
    }
   },
   "outputs": [
    {
     "data": {
      "image/png": "[encoded data removed]",
      "text/plain": [
       "plot without title"
      ]
     },
     "metadata": {
      "image/png": {
       "height": 420,
       "width": 420
      }
     },
     "output_type": "display_data"
    },
    {
     "data": {
      "image/png": "[encoded data removed]",
      "text/plain": [
       "plot without title"
      ]
     },
     "metadata": {
      "image/png": {
       "height": 420,
       "width": 420
      }
     },
     "output_type": "display_data"
    }
   ],
   "source": [
    "# Step 5: Decomposition of Time Series (if seasonal patterns expected)\n",
    "decomposed <- stl(win_price_ts, s.window = \"periodic\")\n",
    "plot(decomposed)\n",
    "\n",
    "decomposed_2 <- stl(PLACE_price_ts, s.window = \"periodic\")\n",
    "plot(decomposed_2)\n",
    "\n"
   ]
  },
  {
   "cell_type": "code",
   "execution_count": 24,
   "metadata": {
    "vscode": {
     "languageId": "r"
    }
   },
   "outputs": [],
   "source": [
    "snow_sky_diff_1 <- diff(Snow_Sky_WIN_df$mean_price, lag = 1)\n",
    "\n",
    "snow_sky_diff_P1 <- diff(Snow_Sky_PLACE_df$mean_price, lag = 1)\n"
   ]
  },
  {
   "cell_type": "code",
   "execution_count": 25,
   "metadata": {
    "vscode": {
     "languageId": "r"
    }
   },
   "outputs": [
    {
     "data": {
      "image/png": "[encoded data removed]",
      "text/plain": [
       "Plot with title \"SNOW SKY Differenced Price Time Series\""
      ]
     },
     "metadata": {
      "image/png": {
       "height": 420,
       "width": 420
      }
     },
     "output_type": "display_data"
    },
    {
     "data": {
      "image/png": "[encoded data removed]",
      "text/plain": [
       "Plot with title \"SNOW SKY Differenced Price Time Series\""
      ]
     },
     "metadata": {
      "image/png": {
       "height": 420,
       "width": 420
      }
     },
     "output_type": "display_data"
    }
   ],
   "source": [
    "plot(snow_sky_diff_1, main=\"SNOW SKY Differenced Price Time Series\", xlab=\"Time\", ylab=\"Differenced Price\", type=\"l\")\n",
    "\n",
    "plot(snow_sky_diff_P1, main=\"SNOW SKY Differenced Price Time Series\", xlab=\"Time\", ylab=\"Differenced Price\", type=\"l\")"
   ]
  },
  {
   "cell_type": "code",
   "execution_count": 26,
   "metadata": {
    "vscode": {
     "languageId": "r"
    }
   },
   "outputs": [
    {
     "name": "stdout",
     "output_type": "stream",
     "text": [
      "\n",
      "\tAugmented Dickey-Fuller Test\n",
      "\n",
      "data:  snow_sky_diff_1\n",
      "Dickey-Fuller = -2.8935, Lag order = 3, p-value = 0.218\n",
      "alternative hypothesis: stationary\n",
      "\n",
      "\n",
      "\tAugmented Dickey-Fuller Test\n",
      "\n",
      "data:  snow_sky_diff_P1\n",
      "Dickey-Fuller = -2.5124, Lag order = 3, p-value = 0.3698\n",
      "alternative hypothesis: stationary\n",
      "\n"
     ]
    }
   ],
   "source": [
    "adf_result_diff <- adf.test(snow_sky_diff_1, alternative = \"stationary\")\n",
    "print(adf_result_diff)\n",
    "\n",
    "adf_result_diff_P <- adf.test(snow_sky_diff_P1, alternative = \"stationary\")\n",
    "print(adf_result_diff_P)"
   ]
  },
  {
   "cell_type": "markdown",
   "metadata": {},
   "source": [
    "#P-Value > 0.05, hence we take do another differential"
   ]
  },
  {
   "cell_type": "code",
   "execution_count": 27,
   "metadata": {
    "vscode": {
     "languageId": "r"
    }
   },
   "outputs": [],
   "source": [
    "snow_sky_diff_2 <- diff(snow_sky_diff_1, lag = 1)\n",
    "\n",
    "snow_sky_diff_P2 <- diff(snow_sky_diff_P1, lag = 1)"
   ]
  },
  {
   "cell_type": "code",
   "execution_count": 28,
   "metadata": {
    "vscode": {
     "languageId": "r"
    }
   },
   "outputs": [
    {
     "name": "stderr",
     "output_type": "stream",
     "text": [
      "Warning message in adf.test(snow_sky_diff_2, alternative = \"stationary\"):\n",
      "\"p-value smaller than printed p-value\"\n"
     ]
    },
    {
     "data": {
      "text/plain": [
       "\n",
       "\tAugmented Dickey-Fuller Test\n",
       "\n",
       "data:  snow_sky_diff_2\n",
       "Dickey-Fuller = -5.2098, Lag order = 3, p-value = 0.01\n",
       "alternative hypothesis: stationary\n"
      ]
     },
     "metadata": {},
     "output_type": "display_data"
    },
    {
     "name": "stderr",
     "output_type": "stream",
     "text": [
      "Warning message in adf.test(snow_sky_diff_P2, alternative = \"stationary\"):\n",
      "\"p-value smaller than printed p-value\"\n"
     ]
    },
    {
     "data": {
      "text/plain": [
       "\n",
       "\tAugmented Dickey-Fuller Test\n",
       "\n",
       "data:  snow_sky_diff_P2\n",
       "Dickey-Fuller = -5.3273, Lag order = 3, p-value = 0.01\n",
       "alternative hypothesis: stationary\n"
      ]
     },
     "metadata": {},
     "output_type": "display_data"
    }
   ],
   "source": [
    "adf.test(snow_sky_diff_2, alternative = \"stationary\")\n",
    "\n",
    "adf.test(snow_sky_diff_P2, alternative = \"stationary\")"
   ]
  },
  {
   "cell_type": "markdown",
   "metadata": {},
   "source": [
    "### VAR MODEL FOR WIN MARKET AND PLACE MARKET\n"
   ]
  },
  {
   "cell_type": "markdown",
   "metadata": {},
   "source": []
  },
  {
   "cell_type": "code",
   "execution_count": 29,
   "metadata": {
    "vscode": {
     "languageId": "r"
    }
   },
   "outputs": [
    {
     "data": {
      "text/html": [
       "46"
      ],
      "text/latex": [
       "46"
      ],
      "text/markdown": [
       "46"
      ],
      "text/plain": [
       "[1] 46"
      ]
     },
     "metadata": {},
     "output_type": "display_data"
    },
    {
     "data": {
      "text/html": [
       "46"
      ],
      "text/latex": [
       "46"
      ],
      "text/markdown": [
       "46"
      ],
      "text/plain": [
       "[1] 46"
      ]
     },
     "metadata": {},
     "output_type": "display_data"
    }
   ],
   "source": [
    "# Check the size of both the time series\n",
    "\n",
    "length(snow_sky_diff_2)\n",
    "length(snow_sky_diff_P2)"
   ]
  },
  {
   "cell_type": "code",
   "execution_count": 30,
   "metadata": {
    "vscode": {
     "languageId": "r"
    }
   },
   "outputs": [
    {
     "name": "stderr",
     "output_type": "stream",
     "text": [
      "Installing package into 'C:/Users/samue/AppData/Local/R/win-library/4.4'\n",
      "(as 'lib' is unspecified)\n",
      "\n"
     ]
    },
    {
     "name": "stdout",
     "output_type": "stream",
     "text": [
      "package 'vars' successfully unpacked and MD5 sums checked\n",
      "\n",
      "The downloaded binary packages are in\n",
      "\tC:\\Users\\samue\\AppData\\Local\\Temp\\RtmpIjfr6T\\downloaded_packages\n"
     ]
    },
    {
     "name": "stderr",
     "output_type": "stream",
     "text": [
      "Warning message:\n",
      "\"package 'tseries' is in use and will not be installed\"\n",
      "Warning message:\n",
      "\"package 'quantmod' is in use and will not be installed\"\n",
      "Loading required package: MASS\n",
      "\n",
      "\n",
      "Attaching package: 'MASS'\n",
      "\n",
      "\n",
      "The following object is masked from 'package:dplyr':\n",
      "\n",
      "    select\n",
      "\n",
      "\n",
      "Loading required package: strucchange\n",
      "\n",
      "Loading required package: sandwich\n",
      "\n",
      "\n",
      "Attaching package: 'strucchange'\n",
      "\n",
      "\n",
      "The following object is masked from 'package:stringr':\n",
      "\n",
      "    boundary\n",
      "\n",
      "\n",
      "Loading required package: urca\n",
      "\n",
      "Loading required package: lmtest\n",
      "\n"
     ]
    }
   ],
   "source": [
    "# Loading required package and importing data\n",
    "install.packages(\"vars\")\n",
    "install.packages(\"tseries\")\n",
    "install.packages(\"quantmod\")\n",
    "library(vars)\n",
    "library(tseries)\n",
    "library(quantmod)"
   ]
  },
  {
   "cell_type": "code",
   "execution_count": 32,
   "metadata": {
    "vscode": {
     "languageId": "r"
    }
   },
   "outputs": [
    {
     "data": {
      "text/plain": [
       "\n",
       "t test of coefficients:\n",
       "\n",
       "                                         Estimate  Std. Error t value Pr(>|t|)\n",
       "snow_sky_diff_2:(Intercept)            0.00124842  0.00638089  0.1956 0.851342\n",
       "snow_sky_diff_2:snow_sky_diff_2.l1    -0.34104360  0.39455164 -0.8644 0.420586\n",
       "snow_sky_diff_2:snow_sky_diff_P2.l1   -1.49130582  1.24835875 -1.1946 0.277315\n",
       "snow_sky_diff_2:snow_sky_diff_2.l2    -0.29029118  0.57473487 -0.5051 0.631509\n",
       "snow_sky_diff_2:snow_sky_diff_P2.l2   -1.09049903  1.59117416 -0.6853 0.518715\n",
       "snow_sky_diff_2:snow_sky_diff_2.l3    -0.53154976  0.61950902 -0.8580 0.423826\n",
       "snow_sky_diff_2:snow_sky_diff_P2.l3    0.61371262  1.60678948  0.3819 0.715660\n",
       "snow_sky_diff_2:snow_sky_diff_2.l4    -0.62596176  0.68160005 -0.9184 0.393844\n",
       "snow_sky_diff_2:snow_sky_diff_P2.l4    2.57108562  1.57247706  1.6351 0.153155\n",
       "snow_sky_diff_2:snow_sky_diff_2.l5    -0.33509693  0.75343603 -0.4448 0.672089\n",
       "snow_sky_diff_2:snow_sky_diff_P2.l5    1.15433267  1.77618703  0.6499 0.539830\n",
       "snow_sky_diff_2:snow_sky_diff_2.l6     0.32267072  0.79693958  0.4049 0.699600\n",
       "snow_sky_diff_2:snow_sky_diff_P2.l6   -1.42284801  1.93277420 -0.7362 0.489398\n",
       "snow_sky_diff_2:snow_sky_diff_2.l7    -0.26124914  0.71052803 -0.3677 0.725731\n",
       "snow_sky_diff_2:snow_sky_diff_P2.l7    0.07894243  1.76242853  0.0448 0.965727\n",
       "snow_sky_diff_2:snow_sky_diff_2.l8     0.03044454  0.71636541  0.0425 0.967480\n",
       "snow_sky_diff_2:snow_sky_diff_P2.l8   -0.13687025  1.74082292 -0.0786 0.939888\n",
       "snow_sky_diff_2:snow_sky_diff_2.l9     0.61869213  0.71350200  0.8671 0.419198\n",
       "snow_sky_diff_2:snow_sky_diff_P2.l9   -1.33612484  1.74780011 -0.7645 0.473575\n",
       "snow_sky_diff_2:snow_sky_diff_2.l10    1.03279214  0.69159421  1.4933 0.185958\n",
       "snow_sky_diff_2:snow_sky_diff_P2.l10  -2.35012219  1.56494529 -1.5017 0.183847\n",
       "snow_sky_diff_2:snow_sky_diff_2.l11    0.52516003  0.65281623  0.8045 0.451824\n",
       "snow_sky_diff_2:snow_sky_diff_P2.l11  -0.23956778  1.33529702 -0.1794 0.863520\n",
       "snow_sky_diff_2:snow_sky_diff_2.l12    0.11439822  0.53507105  0.2138 0.837783\n",
       "snow_sky_diff_2:snow_sky_diff_P2.l12  -0.83005391  1.23650203 -0.6713 0.527019\n",
       "snow_sky_diff_2:snow_sky_diff_2.l13    0.71425378  0.39566464  1.8052 0.121077\n",
       "snow_sky_diff_2:snow_sky_diff_P2.l13  -2.95703902  1.03982145 -2.8438 0.029420\n",
       "snow_sky_diff_P2:(Intercept)           0.00090774  0.00158114  0.5741 0.586760\n",
       "snow_sky_diff_P2:snow_sky_diff_2.l1    0.31434668  0.09776712  3.2153 0.018246\n",
       "snow_sky_diff_P2:snow_sky_diff_P2.l1  -1.39650360  0.30933453 -4.5145 0.004041\n",
       "snow_sky_diff_P2:snow_sky_diff_2.l2    0.22470243  0.14241526  1.5778 0.165688\n",
       "snow_sky_diff_P2:snow_sky_diff_P2.l2  -0.77891994  0.39428178 -1.9755 0.095613\n",
       "snow_sky_diff_P2:snow_sky_diff_2.l3    0.11843357  0.15350998  0.7715 0.469692\n",
       "snow_sky_diff_P2:snow_sky_diff_P2.l3   0.04035437  0.39815114  0.1014 0.922571\n",
       "snow_sky_diff_P2:snow_sky_diff_2.l4    0.14890299  0.16889570  0.8816 0.411901\n",
       "snow_sky_diff_P2:snow_sky_diff_P2.l4   0.30389706  0.38964877  0.7799 0.465079\n",
       "snow_sky_diff_P2:snow_sky_diff_2.l5    0.30926459  0.18669615  1.6565 0.148696\n",
       "snow_sky_diff_P2:snow_sky_diff_P2.l5  -0.77885191  0.44012667 -1.7696 0.127193\n",
       "snow_sky_diff_P2:snow_sky_diff_2.l6    0.40140208  0.19747603  2.0327 0.088337\n",
       "snow_sky_diff_P2:snow_sky_diff_P2.l6  -1.31486526  0.47892787 -2.7454 0.033494\n",
       "snow_sky_diff_P2:snow_sky_diff_2.l7    0.06870060  0.17606385  0.3902 0.709863\n",
       "snow_sky_diff_P2:snow_sky_diff_P2.l7  -0.44833238  0.43671741 -1.0266 0.344206\n",
       "snow_sky_diff_P2:snow_sky_diff_2.l8    0.21925182  0.17751032  1.2351 0.262944\n",
       "snow_sky_diff_P2:snow_sky_diff_P2.l8  -0.55586762  0.43136369 -1.2886 0.244982\n",
       "snow_sky_diff_P2:snow_sky_diff_2.l9    0.48134544  0.17680078  2.7225 0.034527\n",
       "snow_sky_diff_P2:snow_sky_diff_P2.l9  -1.00128968  0.43309259 -2.3120 0.060108\n",
       "snow_sky_diff_P2:snow_sky_diff_2.l10   0.48169011  0.17137219  2.8108 0.030724\n",
       "snow_sky_diff_P2:snow_sky_diff_P2.l10 -1.12981099  0.38778245 -2.9135 0.026857\n",
       "snow_sky_diff_P2:snow_sky_diff_2.l11   0.13662021  0.16176328  0.8446 0.430733\n",
       "snow_sky_diff_P2:snow_sky_diff_P2.l11 -0.31594114  0.33087722 -0.9549 0.376520\n",
       "snow_sky_diff_P2:snow_sky_diff_2.l12   0.03906258  0.13258685  0.2946 0.778213\n",
       "snow_sky_diff_P2:snow_sky_diff_P2.l12 -0.63902059  0.30639652 -2.0856 0.082096\n",
       "snow_sky_diff_P2:snow_sky_diff_2.l13   0.22074567  0.09804292  2.2515 0.065305\n",
       "snow_sky_diff_P2:snow_sky_diff_P2.l13 -1.00625054  0.25766045 -3.9053 0.007935\n",
       "                                        \n",
       "snow_sky_diff_2:(Intercept)             \n",
       "snow_sky_diff_2:snow_sky_diff_2.l1      \n",
       "snow_sky_diff_2:snow_sky_diff_P2.l1     \n",
       "snow_sky_diff_2:snow_sky_diff_2.l2      \n",
       "snow_sky_diff_2:snow_sky_diff_P2.l2     \n",
       "snow_sky_diff_2:snow_sky_diff_2.l3      \n",
       "snow_sky_diff_2:snow_sky_diff_P2.l3     \n",
       "snow_sky_diff_2:snow_sky_diff_2.l4      \n",
       "snow_sky_diff_2:snow_sky_diff_P2.l4     \n",
       "snow_sky_diff_2:snow_sky_diff_2.l5      \n",
       "snow_sky_diff_2:snow_sky_diff_P2.l5     \n",
       "snow_sky_diff_2:snow_sky_diff_2.l6      \n",
       "snow_sky_diff_2:snow_sky_diff_P2.l6     \n",
       "snow_sky_diff_2:snow_sky_diff_2.l7      \n",
       "snow_sky_diff_2:snow_sky_diff_P2.l7     \n",
       "snow_sky_diff_2:snow_sky_diff_2.l8      \n",
       "snow_sky_diff_2:snow_sky_diff_P2.l8     \n",
       "snow_sky_diff_2:snow_sky_diff_2.l9      \n",
       "snow_sky_diff_2:snow_sky_diff_P2.l9     \n",
       "snow_sky_diff_2:snow_sky_diff_2.l10     \n",
       "snow_sky_diff_2:snow_sky_diff_P2.l10    \n",
       "snow_sky_diff_2:snow_sky_diff_2.l11     \n",
       "snow_sky_diff_2:snow_sky_diff_P2.l11    \n",
       "snow_sky_diff_2:snow_sky_diff_2.l12     \n",
       "snow_sky_diff_2:snow_sky_diff_P2.l12    \n",
       "snow_sky_diff_2:snow_sky_diff_2.l13     \n",
       "snow_sky_diff_2:snow_sky_diff_P2.l13  * \n",
       "snow_sky_diff_P2:(Intercept)            \n",
       "snow_sky_diff_P2:snow_sky_diff_2.l1   * \n",
       "snow_sky_diff_P2:snow_sky_diff_P2.l1  **\n",
       "snow_sky_diff_P2:snow_sky_diff_2.l2     \n",
       "snow_sky_diff_P2:snow_sky_diff_P2.l2  . \n",
       "snow_sky_diff_P2:snow_sky_diff_2.l3     \n",
       "snow_sky_diff_P2:snow_sky_diff_P2.l3    \n",
       "snow_sky_diff_P2:snow_sky_diff_2.l4     \n",
       "snow_sky_diff_P2:snow_sky_diff_P2.l4    \n",
       "snow_sky_diff_P2:snow_sky_diff_2.l5     \n",
       "snow_sky_diff_P2:snow_sky_diff_P2.l5    \n",
       "snow_sky_diff_P2:snow_sky_diff_2.l6   . \n",
       "snow_sky_diff_P2:snow_sky_diff_P2.l6  * \n",
       "snow_sky_diff_P2:snow_sky_diff_2.l7     \n",
       "snow_sky_diff_P2:snow_sky_diff_P2.l7    \n",
       "snow_sky_diff_P2:snow_sky_diff_2.l8     \n",
       "snow_sky_diff_P2:snow_sky_diff_P2.l8    \n",
       "snow_sky_diff_P2:snow_sky_diff_2.l9   * \n",
       "snow_sky_diff_P2:snow_sky_diff_P2.l9  . \n",
       "snow_sky_diff_P2:snow_sky_diff_2.l10  * \n",
       "snow_sky_diff_P2:snow_sky_diff_P2.l10 * \n",
       "snow_sky_diff_P2:snow_sky_diff_2.l11    \n",
       "snow_sky_diff_P2:snow_sky_diff_P2.l11   \n",
       "snow_sky_diff_P2:snow_sky_diff_2.l12    \n",
       "snow_sky_diff_P2:snow_sky_diff_P2.l12 . \n",
       "snow_sky_diff_P2:snow_sky_diff_2.l13  . \n",
       "snow_sky_diff_P2:snow_sky_diff_P2.l13 **\n",
       "---\n",
       "Signif. codes:  0 '***' 0.001 '**' 0.01 '*' 0.05 '.' 0.1 ' ' 1\n"
      ]
     },
     "metadata": {},
     "output_type": "display_data"
    },
    {
     "data": {
      "text/plain": [
       "$Granger\n",
       "\n",
       "\tGranger causality H0: snow_sky_diff_2 do not Granger-cause\n",
       "\tsnow_sky_diff_P2\n",
       "\n",
       "data:  VAR object VAR_est\n",
       "F-Test = 2.3683, df1 = 13, df2 = 12, p-value = 0.07277\n",
       "\n"
      ]
     },
     "metadata": {},
     "output_type": "display_data"
    },
    {
     "data": {
      "text/plain": [
       "$Granger\n",
       "\n",
       "\tGranger causality H0: snow_sky_diff_P2 do not Granger-cause\n",
       "\tsnow_sky_diff_2\n",
       "\n",
       "data:  VAR object VAR_est\n",
       "F-Test = 1.3591, df1 = 13, df2 = 12, p-value = 0.301\n",
       "\n"
      ]
     },
     "metadata": {},
     "output_type": "display_data"
    }
   ],
   "source": [
    "# Estimating vector autoregression and testing for causality\n",
    "\n",
    "VAR_est <- VAR(cbind(snow_sky_diff_2,snow_sky_diff_P2), ic=\"AIC\", lag.max = 20)\n",
    "coeftest(VAR_est)\n",
    "causality(VAR_est, cause=\"snow_sky_diff_2\")[\"Granger\"]\n",
    "causality(VAR_est, cause=\"snow_sky_diff_P2\")[\"Granger\"]\n",
    "\n",
    "# Interpretation: The Granger-causality test states that at the 95% confidence interval, oil returns do significantly Granger-cause the inflation rate but not vice versa.\n",
    "\n"
   ]
  },
  {
   "cell_type": "code",
   "execution_count": null,
   "metadata": {
    "vscode": {
     "languageId": "r"
    }
   },
   "outputs": [],
   "source": [
    "# Degression: Plotting impulse response functions\n",
    "plot(irf(VAR_est, impulse=\"win_price_ts\", response=\"PLACE_price_ts\"))\n",
    "plot(irf(VAR_est, impulse=\"PLACE_price_ts\", response=\"win_price_ts\"))\n",
    "\n",
    "# Interpretation: A shock in the inflation rate does not have an effect on oil returns, whereas a shock in oil returns has a positive effect on the inflation rate in the first months after the shock."
   ]
  },
  {
   "cell_type": "code",
   "execution_count": null,
   "metadata": {
    "vscode": {
     "languageId": "r"
    }
   },
   "outputs": [],
   "source": []
  },
  {
   "cell_type": "code",
   "execution_count": null,
   "metadata": {
    "vscode": {
     "languageId": "r"
    }
   },
   "outputs": [],
   "source": []
  },
  {
   "cell_type": "code",
   "execution_count": null,
   "metadata": {
    "vscode": {
     "languageId": "r"
    }
   },
   "outputs": [],
   "source": []
  },
  {
   "cell_type": "code",
   "execution_count": null,
   "metadata": {
    "vscode": {
     "languageId": "r"
    }
   },
   "outputs": [],
   "source": []
  },
  {
   "cell_type": "code",
   "execution_count": null,
   "metadata": {
    "vscode": {
     "languageId": "r"
    }
   },
   "outputs": [],
   "source": []
  },
  {
   "cell_type": "code",
   "execution_count": null,
   "metadata": {
    "vscode": {
     "languageId": "r"
    }
   },
   "outputs": [],
   "source": []
  },
  {
   "cell_type": "code",
   "execution_count": null,
   "metadata": {
    "vscode": {
     "languageId": "r"
    }
   },
   "outputs": [],
   "source": []
  },
  {
   "cell_type": "code",
   "execution_count": null,
   "metadata": {
    "vscode": {
     "languageId": "r"
    }
   },
   "outputs": [],
   "source": []
  },
  {
   "cell_type": "code",
   "execution_count": null,
   "metadata": {
    "vscode": {
     "languageId": "r"
    }
   },
   "outputs": [],
   "source": []
  }
 ],
 "metadata": {
  "kernelspec": {
   "display_name": "R",
   "language": "R",
   "name": "ir"
  },
  "language_info": {
   "codemirror_mode": "r",
   "file_extension": ".r",
   "mimetype": "text/x-r-source",
   "name": "R",
   "pygments_lexer": "r",
   "version": "4.3.0"
  }
 },
 "nbformat": 4,
 "nbformat_minor": 4
}
