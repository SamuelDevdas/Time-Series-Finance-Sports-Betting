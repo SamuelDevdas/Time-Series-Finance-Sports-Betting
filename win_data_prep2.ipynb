{
 "cells": [
  {
   "cell_type": "markdown",
   "metadata": {},
   "source": [
    "## INTRODUCTION \n",
    "\n"
   ]
  },
  {
   "cell_type": "markdown",
   "metadata": {},
   "source": [
    "## LITERATURE REVIEW"
   ]
  },
  {
   "cell_type": "markdown",
   "metadata": {},
   "source": [
    "## METHODS\n",
    "\n",
    "### Data collection and preprocessing\n",
    "\n",
    "### Descriptive Analysis: Visualization and data preparation\n",
    "\n",
    "### Datapreparation\n",
    "\n",
    "### Stationarity\n",
    "\n",
    "### VAR-Model and Granger-Causality Test\n",
    "\n",
    "\n"
   ]
  },
  {
   "cell_type": "markdown",
   "metadata": {},
   "source": [
    "##  RESULTS"
   ]
  },
  {
   "cell_type": "markdown",
   "metadata": {},
   "source": [
    "## APPENDIX"
   ]
  },
  {
   "cell_type": "code",
   "execution_count": null,
   "metadata": {
    "editable": true,
    "slideshow": {
     "slide_type": ""
    },
    "tags": [],
    "vscode": {
     "languageId": "r"
    }
   },
   "outputs": [],
   "source": [
    "# Package installation\n",
    "# install.packages('dplyr')\n",
    "# install.packages('jsonlite')\n",
    "# install.packages('lubridate')\n",
    "# install.packages('ggplot2')\n",
    "# install.packages('quantmod')\n",
    "# install.packages('lifecycle')\n",
    "# install.packages('tidyselect')\n",
    "# install.packages(\"tidyverse\")\n",
    "# install.packages(\"zoo\")\n",
    "\n",
    "# Install necessary packages for VAR model\n",
    "# install.packages(\"tsibble\")\n",
    "# install.packages(\"feasts\")\n",
    "# install.packages(\"fabletools\")\n"
   ]
  },
  {
   "cell_type": "code",
   "execution_count": null,
   "metadata": {
    "vscode": {
     "languageId": "r"
    }
   },
   "outputs": [],
   "source": [
    "# Load necessary libraries\n",
    "library(dplyr)\n",
    "library(jsonlite)\n",
    "library(lubridate)\n",
    "library(ggplot2)\n",
    "library(quantmod)\n",
    "library(lifecycle)\n",
    "library(tidyselect)\n",
    "library(tidyverse)\n",
    "library(zoo)\n",
    "library(forecast)\n",
    "library(tseries)\n",
    "\n",
    "# Load necessary libraries for VAR model\n",
    "library(tsibble)\n",
    "library(feasts)\n",
    "library(fabletools)\n",
    "\n"
   ]
  },
  {
   "cell_type": "code",
   "execution_count": null,
   "metadata": {
    "vscode": {
     "languageId": "r"
    }
   },
   "outputs": [],
   "source": [
    "# Read the CSV file into a dataframe\n",
    "WIN_PRO_df <- read.csv(\"csv_files/win_data_pro.csv\")\n",
    "PLACE_PRO_df <- read.csv(\"csv_files/place_data_PRO.csv\")"
   ]
  },
  {
   "cell_type": "code",
   "execution_count": null,
   "metadata": {
    "vscode": {
     "languageId": "r"
    }
   },
   "outputs": [],
   "source": [
    "# Filter only on the rows where actual trades have been made\n",
    "WIN_PRO_df <- WIN_PRO_df %>% filter(trades != \"[]\")\n",
    "PLACE_PRO_df <- PLACE_PRO_df %>% filter(trades != \"[]\")\n",
    "\n",
    "# Convert timestamp to POSIXct\n",
    "WIN_PRO_df <- WIN_PRO_df %>%\n",
    "  mutate(timestamp = as.POSIXct(timestamp_unix / 1000, origin = \"1970-01-01\", tz = \"GMT\"))\n",
    "\n",
    "PLACE_PRO_df <- PLACE_PRO_df %>%\n",
    "  mutate(timestamp = as.POSIXct(timestamp_unix / 1000, origin = \"1970-01-01\", tz = \"GMT\"))\n",
    "\n",
    "Bucket_size <- 9\n",
    "\n",
    "# Create a equal frequency bin for time\n",
    "WIN_PRO_df <- WIN_PRO_df %>%\n",
    "  mutate(time_bucket = floor(as.numeric(timestamp) / Bucket_size))\n",
    "\n",
    "PLACE_PRO_df <- PLACE_PRO_df %>%\n",
    "  mutate(time_bucket = floor(as.numeric(timestamp) / Bucket_size))\n",
    "\n",
    "# Create price column. Price is set to last traded price, which is fine because we filtered out the rows with no trades.\n",
    "#Hence price is now actual trades, and size will be worked out later for each horse.\n",
    "WIN_PRO_df <- WIN_PRO_df %>%\n",
    "  mutate(\n",
    "    price = last_traded_price\n",
    "  )\n",
    "\n",
    "PLACE_PRO_df <- PLACE_PRO_df %>%\n",
    "  mutate(\n",
    "    price = last_traded_price\n",
    "  )\n"
   ]
  },
  {
   "cell_type": "code",
   "execution_count": null,
   "metadata": {
    "vscode": {
     "languageId": "r"
    }
   },
   "outputs": [],
   "source": [
    "###Check horse IDS\n",
    "# Read the horse name data into a dataframe\n",
    "horse_names_df <- data.frame(\n",
    "  horse_id = c(8421889, 7560122, 5465145, 3415981, 5105924, 7401388),\n",
    "  horse_name = c(\"Romsdal\", \"Snow Sky\", \"Havana Beat\", \"Times Up\", \"Brown Panther\", \"Island Remede\")\n",
    ")"
   ]
  },
  {
   "cell_type": "code",
   "execution_count": null,
   "metadata": {
    "vscode": {
     "languageId": "r"
    }
   },
   "outputs": [],
   "source": [
    "# Join the horse name data with the main dataframe\n",
    "WIN_PRO_df <- WIN_PRO_df %>%\n",
    "  left_join(horse_names_df, by = c(\"horse_id\" = \"horse_id\"))\n",
    "\n",
    "PLACE_PRO_df <- PLACE_PRO_df %>%\n",
    "  left_join(horse_names_df, by = c(\"horse_id\" = \"horse_id\"))"
   ]
  },
  {
   "cell_type": "code",
   "execution_count": null,
   "metadata": {
    "vscode": {
     "languageId": "r"
    }
   },
   "outputs": [],
   "source": [
    "# Important instances to split df\n",
    "PP_t <- \"2015-05-15 16:06:18\"\n",
    "IP_t <- \"2015-05-15 16:16:00\"\n",
    "\n",
    "\n",
    "# Split the data frame into three parts based on the given times\n",
    "WIN_PRO_df_Morning <- WIN_PRO_df %>% filter(timestamp < PP_t)\n",
    "WIN_PRO_df_PP <- WIN_PRO_df %>% filter(timestamp >= PP_t & timestamp < IP_t)\n",
    "WIN_PRO_df_IP <- WIN_PRO_df %>% filter(timestamp >= IP_t)\n",
    "\n",
    "PLACE_PRO_df_Morning <- PLACE_PRO_df %>% filter(timestamp < PP_t)\n",
    "PLACE_PRO_df_PP <- PLACE_PRO_df %>% filter(timestamp >= PP_t & timestamp < IP_t)\n",
    "PLACE_PRO_df_IP <- PLACE_PRO_df %>% filter(timestamp >= IP_t)"
   ]
  },
  {
   "cell_type": "code",
   "execution_count": null,
   "metadata": {
    "vscode": {
     "languageId": "r"
    }
   },
   "outputs": [],
   "source": [
    "\n",
    "\n",
    "# Loop through each horse and create a plot and save dataframe for WIN_PRO_df\n",
    "for (horse in unique(WIN_PRO_df$horse_name)) {\n",
    "  horse_df <- WIN_PRO_df_PP %>% filter(horse_name == horse)\n",
    "  \n",
    "  # Group by time_bucket and calculate the size and Mean Price\n",
    "  horse_df <- horse_df %>%\n",
    "    group_by(time_bucket) %>%\n",
    "    summarise(\n",
    "      mean_price = mean(price, na.rm = TRUE)\n",
    "    )\n",
    "  \n",
    "  # Save the horse-specific dataframe to a variable named after the horse\n",
    "  assign(paste0(gsub(\" \", \"_\", horse), \"_WIN_df\"), horse_df)\n",
    "\n",
    "\n",
    "\n",
    "  \n",
    "  # Create the plot with only price\n",
    "  p <- ggplot(data = horse_df, aes(x = as.POSIXct(time_bucket * Bucket_size, origin = \"1970-01-01\", tz = \"GMT\"), y = mean_price)) +\n",
    "    geom_line() +\n",
    "    geom_point() +\n",
    "    labs(\n",
    "      title = paste(\"WIN market Price Over Time for\", horse),\n",
    "      x = \"Time\",\n",
    "      y = \"Mean Price\"\n",
    "    ) +\n",
    "    theme_minimal() +\n",
    "    theme(\n",
    "      axis.text.x = element_text(angle = 45, hjust = 1),\n",
    "      legend.position = \"bottom\"\n",
    "    ) +\n",
    "    scale_x_datetime(date_breaks = \"1 min\", date_labels = \"%H:%M\")\n",
    "  \n",
    "  # Print the plot\n",
    "  print(p)\n",
    "}\n",
    "  "
   ]
  },
  {
   "cell_type": "code",
   "execution_count": null,
   "metadata": {
    "vscode": {
     "languageId": "r"
    }
   },
   "outputs": [],
   "source": [
    "# Loop through each horse and create a plot and save dataframe for PLACE_PRO_df\n",
    "for (horse in unique(PLACE_PRO_df$horse_name)) {\n",
    "  horse_df <- PLACE_PRO_df_PP %>% filter(horse_name == horse)\n",
    "  \n",
    "  \n",
    "  # Group by time_bucket and calculate the size and Mean Price\n",
    "  horse_df <- horse_df %>%\n",
    "    group_by(time_bucket) %>%\n",
    "    summarise(\n",
    "      #total_size = sum(size, na.rm = TRUE),\n",
    "      #mean_price = sum(price * size, na.rm = TRUE) / sum(size, na.rm = TRUE)\n",
    "      mean_price = mean(price, na.rm = TRUE)\n",
    "    )\n",
    "  \n",
    "  # Save the horse-specific dataframe to a variable named after the horse\n",
    "  assign(paste0(gsub(\" \", \"_\", horse), \"_PLACE_df\"), horse_df)\n",
    "  \n",
    "  # Create the plot with only price\n",
    "  p <- ggplot(data = horse_df, aes(x = as.POSIXct(time_bucket * Bucket_size, origin = \"1970-01-01\", tz = \"GMT\"), y = mean_price)) +\n",
    "    geom_line() +\n",
    "    geom_point() +\n",
    "    labs(\n",
    "      title = paste(\"PLACE market Price Over Time for\", horse),\n",
    "      x = \"Time\",\n",
    "      y = \"Mean Price\"\n",
    "    ) +\n",
    "    theme_minimal() +\n",
    "    theme(\n",
    "      axis.text.x = element_text(angle = 45, hjust = 1),\n",
    "      legend.position = \"bottom\"\n",
    "    ) +\n",
    "    scale_x_datetime(date_breaks = \"1 min\", date_labels = \"%H:%M\")\n",
    "  \n",
    "  # Print the plot\n",
    "  print(p)\n",
    "}"
   ]
  },
  {
   "cell_type": "markdown",
   "metadata": {},
   "source": [
    "### EXPLORATORY DATA ANALYSIS WIN MARKET (Brown Panther)\n"
   ]
  },
  {
   "cell_type": "code",
   "execution_count": null,
   "metadata": {
    "vscode": {
     "languageId": "r"
    }
   },
   "outputs": [],
   "source": [
    "head(Brown_Panther_WIN_df)\n",
    "head(Brown_Panther_PLACE_df)"
   ]
  },
  {
   "cell_type": "code",
   "execution_count": null,
   "metadata": {
    "vscode": {
     "languageId": "r"
    }
   },
   "outputs": [],
   "source": [
    "# Step 2: Data Exploration\n",
    "# Summary statistics of key variables\n",
    "\n",
    "print(summary(Brown_Panther_WIN_df$mean_price))\n",
    "print(summary(Brown_Panther_PLACE_df$mean_price))"
   ]
  },
  {
   "cell_type": "code",
   "execution_count": null,
   "metadata": {
    "vscode": {
     "languageId": "r"
    }
   },
   "outputs": [],
   "source": [
    "# Check for missing and duplicates in the values\n",
    "print(sum(is.na(Brown_Panther_WIN_df$mean_price)))\n",
    "print(sum(is.na(Brown_Panther_PLACE_df$mean_price)))\n",
    "\n",
    "# Check duplicate rows\n",
    "print(sum(duplicated(Brown_Panther_WIN_df)))\n",
    "print(sum(duplicated(Brown_Panther_PLACE_df)))"
   ]
  },
  {
   "cell_type": "code",
   "execution_count": null,
   "metadata": {
    "vscode": {
     "languageId": "r"
    }
   },
   "outputs": [],
   "source": [
    "# Convert 'time_bucket' to POSIXct for proper time handling\n",
    "Brown_Panther_WIN_df <- Brown_Panther_WIN_df %>%\n",
    "  mutate(timestamp = as.POSIXct(time_bucket * Bucket_size, origin = \"1970-01-01\", tz = \"GMT\"))\n",
    "\n",
    "# Check the range of the timestamp\n",
    "start_time <- min(Brown_Panther_WIN_df$timestamp)\n",
    "end_time <- max(Brown_Panther_WIN_df$timestamp)\n",
    "\n",
    "# Create a sequence of time points from start to end with a step of 6 seconds\n",
    "time_points <- seq(from = start_time, to = end_time, by = Bucket_size)\n",
    "\n",
    "# Create a complete data frame with these time points\n",
    "complete_data <- data.frame(timestamp = time_points)\n",
    "\n",
    "# Merge with the original data to ensure alignment\n",
    "complete_data <- complete_data %>%\n",
    "  left_join(Brown_Panther_WIN_df, by = \"timestamp\")\n",
    "\n",
    "# Fill missing prices with NA or any other method if necessary\n",
    "complete_data <- complete_data %>%\n",
    "  mutate(mean_price = ifelse(is.na(mean_price), NA, mean_price))\n",
    "\n",
    "# Check the filled price data\n",
    "summary(complete_data$mean_price)\n",
    "\n",
    "# Extract the filled price data\n",
    "filled_price_data <- complete_data$mean_price\n",
    "\n",
    "# Create the time series object\n",
    "# Use a lower frequency to match the length of the time series\n",
    "# For example, assuming a reasonable periodicity within the data length\n",
    "WIN_price_ts <- ts(filled_price_data, frequency = Bucket_size)\n",
    "\n",
    "# Check the structure and length of the time series object\n",
    "str(WIN_price_ts)\n",
    "length(WIN_price_ts)\n",
    "\n",
    "# Display the first few entries of the time series object\n",
    "head(WIN_price_ts)\n",
    "\n"
   ]
  },
  {
   "cell_type": "code",
   "execution_count": null,
   "metadata": {
    "vscode": {
     "languageId": "r"
    }
   },
   "outputs": [],
   "source": [
    "# Convert 'time_bucket' to POSIXct for proper time handling\n",
    "Brown_Panther_PLACE_df <- Brown_Panther_PLACE_df %>%\n",
    "  mutate(timestamp = as.POSIXct(time_bucket * Bucket_size, origin = \"1970-01-01\", tz = \"GMT\"))\n",
    "\n",
    "# Check the range of the timestamp\n",
    "start_time <- min(Brown_Panther_PLACE_df$timestamp)\n",
    "end_time <- max(Brown_Panther_PLACE_df$timestamp)\n",
    "\n",
    "# Create a sequence of time points from start to end with a step of 6 seconds\n",
    "time_points <- seq(from = start_time, to = end_time, by = Bucket_size)\n",
    "\n",
    "# Create a complete data frame with these time points\n",
    "complete_data <- data.frame(timestamp = time_points)\n",
    "\n",
    "# Merge with the original data to ensure alignment\n",
    "complete_data <- complete_data %>%\n",
    "  left_join(Brown_Panther_PLACE_df, by = \"timestamp\")\n",
    "\n",
    "# Fill missing prices with NA or any other method if necessary\n",
    "complete_data <- complete_data %>%\n",
    "  mutate(mean_price = ifelse(is.na(mean_price), NA, mean_price))\n",
    "\n",
    "# Check the filled price data\n",
    "summary(complete_data$mean_price)\n",
    "\n",
    "# Extract the filled price data\n",
    "filled_price_data <- complete_data$mean_price\n",
    "\n",
    "# Create the time series object\n",
    "# Use a lower frequency to match the length of the time series\n",
    "# For example, assuming a reasonable periodicity within the data length\n",
    "PLACE_price_ts <- ts(filled_price_data, frequency = Bucket_size)\n",
    "\n",
    "# Check the structure and length of the time series object\n",
    "str(PLACE_price_ts)\n",
    "length(PLACE_price_ts)\n",
    "\n",
    "# Display the first few entries of the time series object\n",
    "head(PLACE_price_ts)"
   ]
  },
  {
   "cell_type": "code",
   "execution_count": null,
   "metadata": {
    "vscode": {
     "languageId": "r"
    }
   },
   "outputs": [],
   "source": [
    "plot(WIN_price_ts, main=\"Win Price Time Series for Brown Panther\", xlab=\"Time\", ylab=\"Price\", type=\"l\")\n"
   ]
  },
  {
   "cell_type": "code",
   "execution_count": null,
   "metadata": {
    "vscode": {
     "languageId": "r"
    }
   },
   "outputs": [],
   "source": [
    "plot(PLACE_price_ts, main=\"PLACE Price Time Series for Brown Panther\", xlab=\"Time\", ylab=\"Price\", type=\"l\")"
   ]
  },
  {
   "cell_type": "code",
   "execution_count": null,
   "metadata": {
    "vscode": {
     "languageId": "r"
    }
   },
   "outputs": [],
   "source": [
    "# Step 4: Statistical Tests\n",
    "# Testing for stationarity\n",
    "adf_test_result <- adf.test(WIN_price_ts, alternative = \"stationary\")\n",
    "print(adf_test_result)\n",
    "\n",
    "adf_test_result_2 <- adf.test(PLACE_price_ts, alternative = \"stationary\")\n",
    "print(adf_test_result_2)\n",
    "\n"
   ]
  },
  {
   "cell_type": "markdown",
   "metadata": {},
   "source": [
    "Its not stationary. Therefore we need to break it down and to understand the underlying components.\n"
   ]
  },
  {
   "cell_type": "code",
   "execution_count": null,
   "metadata": {
    "vscode": {
     "languageId": "r"
    }
   },
   "outputs": [],
   "source": [
    "# Step 5: Decomposition of Time Series (if seasonal patterns expected)\n",
    "decomposed <- stl(WIN_price_ts, s.window = \"periodic\")\n",
    "plot(decomposed)\n",
    "\n",
    "decomposed_2 <- stl(PLACE_price_ts, s.window = \"periodic\")\n",
    "plot(decomposed_2)\n",
    "\n"
   ]
  },
  {
   "cell_type": "code",
   "execution_count": null,
   "metadata": {
    "vscode": {
     "languageId": "r"
    }
   },
   "outputs": [],
   "source": [
    "# Step 6: Differencing \n",
    "Brown_Panther_W_diff1 <- diff(Brown_Panther_WIN_df$mean_price, lag = 1)\n",
    "\n",
    "Brown_Panther_P_diff1 <- diff(Brown_Panther_PLACE_df$mean_price, lag = 1)\n"
   ]
  },
  {
   "cell_type": "code",
   "execution_count": null,
   "metadata": {
    "vscode": {
     "languageId": "r"
    }
   },
   "outputs": [],
   "source": [
    "tail(Brown_Panther_WIN_df)\n",
    "tail(Brown_Panther_PLACE_df)\n",
    "\n",
    "head(Brown_Panther_WIN_df)\n",
    "head(Brown_Panther_PLACE_df)\n",
    "dim(Brown_Panther_WIN_df)\n",
    "dim(Brown_Panther_PLACE_df)\n",
    "\n",
    "# check duplicates in both dfs\n",
    "\n",
    "sum(duplicated(Brown_Panther_WIN_df))\n",
    "\n",
    "sum(duplicated(Brown_Panther_PLACE_df))"
   ]
  },
  {
   "cell_type": "code",
   "execution_count": null,
   "metadata": {
    "vscode": {
     "languageId": "r"
    }
   },
   "outputs": [],
   "source": [
    "plot(Brown_Panther_W_diff1, main=\"SNOW SKY Differenced Price Time Series\", xlab=\"Time\", ylab=\"Differenced Price\", type=\"l\")\n",
    "\n",
    "plot(Brown_Panther_P_diff1, main=\"SNOW SKY Differenced Price Time Series\", xlab=\"Time\", ylab=\"Differenced Price\", type=\"l\")"
   ]
  },
  {
   "cell_type": "code",
   "execution_count": null,
   "metadata": {
    "vscode": {
     "languageId": "r"
    }
   },
   "outputs": [],
   "source": [
    "adf_result_diff <- adf.test(Brown_Panther_W_diff1, alternative = \"stationary\")\n",
    "print(adf_result_diff)\n",
    "\n",
    "adf_result_diff_P <- adf.test(Brown_Panther_P_diff1, alternative = \"stationary\")\n",
    "print(adf_result_diff_P)"
   ]
  },
  {
   "cell_type": "markdown",
   "metadata": {},
   "source": [
    "#P-Value > 0.05, hence we take do another differential\n"
   ]
  },
  {
   "cell_type": "code",
   "execution_count": null,
   "metadata": {
    "vscode": {
     "languageId": "r"
    }
   },
   "outputs": [],
   "source": [
    "# \n",
    "Brown_Panther_W_diff2 <- diff(Brown_Panther_W_diff1, lag = 1)\n",
    "\n",
    "Brown_Panther_P_diff2 <- diff(Brown_Panther_P_diff1, lag = 1)"
   ]
  },
  {
   "cell_type": "code",
   "execution_count": null,
   "metadata": {
    "vscode": {
     "languageId": "r"
    }
   },
   "outputs": [],
   "source": [
    "adf.test(Brown_Panther_W_diff2, alternative = \"stationary\")\n",
    "\n",
    "adf.test(Brown_Panther_P_diff2, alternative = \"stationary\")"
   ]
  },
  {
   "cell_type": "markdown",
   "metadata": {},
   "source": [
    "### VAR MODEL FOR WIN MARKET AND PLACE MARKET\n"
   ]
  },
  {
   "cell_type": "markdown",
   "metadata": {},
   "source": []
  },
  {
   "cell_type": "code",
   "execution_count": null,
   "metadata": {
    "vscode": {
     "languageId": "r"
    }
   },
   "outputs": [],
   "source": [
    "# Check the size of both the time series\n",
    "\n",
    "length(Brown_Panther_W_diff2)\n",
    "length(Brown_Panther_P_diff2)"
   ]
  },
  {
   "cell_type": "code",
   "execution_count": null,
   "metadata": {
    "vscode": {
     "languageId": "r"
    }
   },
   "outputs": [],
   "source": [
    "# Loading required package and importing data\n",
    "# install.packages(\"vars\")\n",
    "# install.packages(\"tseries\")\n",
    "# install.packages(\"quantmod\")\n",
    "library(vars)\n",
    "library(tseries)\n",
    "library(quantmod)"
   ]
  },
  {
   "cell_type": "code",
   "execution_count": null,
   "metadata": {
    "vscode": {
     "languageId": "r"
    }
   },
   "outputs": [],
   "source": [
    "# Estimating vector autoregression and testing for causality\n",
    "\n",
    "VAR_est <- VAR(cbind(Brown_Panther_W_diff2,Brown_Panther_P_diff2), ic=\"AIC\", lag.max = 3)\n",
    "coeftest(VAR_est)\n",
    "causality(VAR_est, cause=\"Brown_Panther_W_diff2\")[\"Granger\"]\n",
    "causality(VAR_est, cause=\"Brown_Panther_P_diff2\")[\"Granger\"]\n",
    "\n",
    "# Interpretation: The Granger-causality test states that at the 95% confidence interval, oil returns do significantly Granger-cause the inflation rate but not vice versa.\n",
    "\n"
   ]
  },
  {
   "cell_type": "code",
   "execution_count": null,
   "metadata": {
    "vscode": {
     "languageId": "r"
    }
   },
   "outputs": [],
   "source": [
    "summary(VAR_est)"
   ]
  },
  {
   "cell_type": "code",
   "execution_count": null,
   "metadata": {
    "vscode": {
     "languageId": "r"
    }
   },
   "outputs": [],
   "source": [
    "# Degression: Plotting impulse response functions\n",
    "plot(irf(VAR_est, impulse=\"Brown_Panther_W_diff2\", response=\"Brown_Panther_P_diff2\"))\n",
    "plot(irf(VAR_est, impulse=\"Brown_Panther_P_diff2\", response=\"Brown_Panther_W_diff2\"))\n",
    "\n",
    "# Interpretation: A shock in the inflation rate does not have an effect on oil returns, whereas a shock in oil returns has a positive effect on the inflation rate in the first months after the shock."
   ]
  },
  {
   "cell_type": "code",
   "execution_count": null,
   "metadata": {
    "vscode": {
     "languageId": "r"
    }
   },
   "outputs": [],
   "source": []
  },
  {
   "cell_type": "code",
   "execution_count": null,
   "metadata": {
    "vscode": {
     "languageId": "r"
    }
   },
   "outputs": [],
   "source": []
  },
  {
   "cell_type": "code",
   "execution_count": null,
   "metadata": {
    "vscode": {
     "languageId": "r"
    }
   },
   "outputs": [],
   "source": []
  },
  {
   "cell_type": "code",
   "execution_count": null,
   "metadata": {
    "vscode": {
     "languageId": "r"
    }
   },
   "outputs": [],
   "source": []
  },
  {
   "cell_type": "code",
   "execution_count": null,
   "metadata": {
    "vscode": {
     "languageId": "r"
    }
   },
   "outputs": [],
   "source": []
  },
  {
   "cell_type": "code",
   "execution_count": null,
   "metadata": {
    "vscode": {
     "languageId": "r"
    }
   },
   "outputs": [],
   "source": []
  },
  {
   "cell_type": "code",
   "execution_count": null,
   "metadata": {
    "vscode": {
     "languageId": "r"
    }
   },
   "outputs": [],
   "source": []
  },
  {
   "cell_type": "code",
   "execution_count": null,
   "metadata": {
    "vscode": {
     "languageId": "r"
    }
   },
   "outputs": [],
   "source": []
  },
  {
   "cell_type": "code",
   "execution_count": null,
   "metadata": {
    "vscode": {
     "languageId": "r"
    }
   },
   "outputs": [],
   "source": []
  }
 ],
 "metadata": {
  "kernelspec": {
   "display_name": "R",
   "language": "R",
   "name": "ir"
  },
  "language_info": {
   "codemirror_mode": "r",
   "file_extension": ".r",
   "mimetype": "text/x-r-source",
   "name": "R",
   "pygments_lexer": "r",
   "version": "4.3.0"
  }
 },
 "nbformat": 4,
 "nbformat_minor": 4
}
