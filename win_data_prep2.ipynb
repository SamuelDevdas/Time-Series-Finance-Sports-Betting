{
 "cells": [
  {
   "cell_type": "code",
   "execution_count": 1,
   "metadata": {
    "editable": true,
    "slideshow": {
     "slide_type": ""
    },
    "tags": [],
    "vscode": {
     "languageId": "r"
    }
   },
   "outputs": [],
   "source": [
    "# Package installation\n",
    "# install.packages('dplyr')\n",
    "# install.packages('jsonlite')\n",
    "# install.packages('lubridate')\n",
    "# install.packages('ggplot2')\n",
    "# install.packages('quantmod')\n",
    "# install.packages('lifecycle')\n",
    "# install.packages('tidyselect')\n",
    "# install.packages(\"tidyverse\")\n",
    "# install.packages(\"zoo\")\n",
    "\n",
    "# Install necessary packages for VAR model\n",
    "# install.packages(\"tsibble\")\n",
    "# install.packages(\"feasts\")\n",
    "# install.packages(\"fabletools\")\n"
   ]
  },
  {
   "cell_type": "code",
   "execution_count": 2,
   "metadata": {
    "vscode": {
     "languageId": "r"
    }
   },
   "outputs": [
    {
     "name": "stderr",
     "output_type": "stream",
     "text": [
      "\n",
      "Attaching package: 'dplyr'\n",
      "\n",
      "\n",
      "The following objects are masked from 'package:stats':\n",
      "\n",
      "    filter, lag\n",
      "\n",
      "\n",
      "The following objects are masked from 'package:base':\n",
      "\n",
      "    intersect, setdiff, setequal, union\n",
      "\n",
      "\n",
      "\n",
      "Attaching package: 'lubridate'\n",
      "\n",
      "\n",
      "The following objects are masked from 'package:base':\n",
      "\n",
      "    date, intersect, setdiff, union\n",
      "\n",
      "\n",
      "Loading required package: xts\n",
      "\n",
      "Loading required package: zoo\n",
      "\n",
      "\n",
      "Attaching package: 'zoo'\n",
      "\n",
      "\n",
      "The following objects are masked from 'package:base':\n",
      "\n",
      "    as.Date, as.Date.numeric\n",
      "\n",
      "\n",
      "\n",
      "######################### Warning from 'xts' package ##########################\n",
      "#                                                                             #\n",
      "# The dplyr lag() function breaks how base R's lag() function is supposed to  #\n",
      "# work, which breaks lag(my_xts). Calls to lag(my_xts) that you type or       #\n",
      "# source() into this session won't work correctly.                            #\n",
      "#                                                                             #\n",
      "# Use stats::lag() to make sure you're not using dplyr::lag(), or you can add #\n",
      "# conflictRules('dplyr', exclude = 'lag') to your .Rprofile to stop           #\n",
      "# dplyr from breaking base R's lag() function.                                #\n",
      "#                                                                             #\n",
      "# Code in packages is not affected. It's protected by R's namespace mechanism #\n",
      "# Set `options(xts.warn_dplyr_breaks_lag = FALSE)` to suppress this warning.  #\n",
      "#                                                                             #\n",
      "###############################################################################\n",
      "\n",
      "\n",
      "Attaching package: 'xts'\n",
      "\n",
      "\n",
      "The following objects are masked from 'package:dplyr':\n",
      "\n",
      "    first, last\n",
      "\n",
      "\n",
      "Loading required package: TTR\n",
      "\n",
      "Registered S3 method overwritten by 'quantmod':\n",
      "  method            from\n",
      "  as.zoo.data.frame zoo \n",
      "\n",
      "── \u001b[1mAttaching core tidyverse packages\u001b[22m ──────────────────────── tidyverse 2.0.0 ──\n",
      "\u001b[32m✔\u001b[39m \u001b[34mforcats\u001b[39m 1.0.0     \u001b[32m✔\u001b[39m \u001b[34mstringr\u001b[39m 1.5.1\n",
      "\u001b[32m✔\u001b[39m \u001b[34mpurrr  \u001b[39m 1.0.2     \u001b[32m✔\u001b[39m \u001b[34mtibble \u001b[39m 3.2.1\n",
      "\u001b[32m✔\u001b[39m \u001b[34mreadr  \u001b[39m 2.1.5     \u001b[32m✔\u001b[39m \u001b[34mtidyr  \u001b[39m 1.3.1\n",
      "── \u001b[1mConflicts\u001b[22m ────────────────────────────────────────── tidyverse_conflicts() ──\n",
      "\u001b[31m✖\u001b[39m \u001b[34mdplyr\u001b[39m::\u001b[32mfilter()\u001b[39m  masks \u001b[34mstats\u001b[39m::filter()\n",
      "\u001b[31m✖\u001b[39m \u001b[34mxts\u001b[39m::\u001b[32mfirst()\u001b[39m     masks \u001b[34mdplyr\u001b[39m::first()\n",
      "\u001b[31m✖\u001b[39m \u001b[34mpurrr\u001b[39m::\u001b[32mflatten()\u001b[39m masks \u001b[34mjsonlite\u001b[39m::flatten()\n",
      "\u001b[31m✖\u001b[39m \u001b[34mdplyr\u001b[39m::\u001b[32mlag()\u001b[39m     masks \u001b[34mstats\u001b[39m::lag()\n",
      "\u001b[31m✖\u001b[39m \u001b[34mxts\u001b[39m::\u001b[32mlast()\u001b[39m      masks \u001b[34mdplyr\u001b[39m::last()\n",
      "\u001b[36mℹ\u001b[39m Use the conflicted package (\u001b[3m\u001b[34m<http://conflicted.r-lib.org/>\u001b[39m\u001b[23m) to force all conflicts to become errors\n",
      "\n",
      "Attaching package: 'tsibble'\n",
      "\n",
      "\n",
      "The following object is masked from 'package:zoo':\n",
      "\n",
      "    index\n",
      "\n",
      "\n",
      "The following object is masked from 'package:lubridate':\n",
      "\n",
      "    interval\n",
      "\n",
      "\n",
      "The following objects are masked from 'package:base':\n",
      "\n",
      "    intersect, setdiff, union\n",
      "\n",
      "\n",
      "Loading required package: fabletools\n",
      "\n"
     ]
    }
   ],
   "source": [
    "# Load necessary libraries\n",
    "library(dplyr)\n",
    "library(jsonlite)\n",
    "library(lubridate)\n",
    "library(ggplot2)\n",
    "library(quantmod)\n",
    "library(lifecycle)\n",
    "library(tidyselect)\n",
    "library(tidyverse)\n",
    "library(zoo)\n",
    "library(forecast)\n",
    "library(tseries)\n",
    "\n",
    "# Load necessary libraries for VAR model\n",
    "library(tsibble)\n",
    "library(feasts)\n",
    "library(fabletools)\n",
    "\n"
   ]
  },
  {
   "cell_type": "code",
   "execution_count": 3,
   "metadata": {
    "vscode": {
     "languageId": "r"
    }
   },
   "outputs": [],
   "source": [
    "# Read the CSV file into a dataframe\n",
    "WIN_PRO_df <- read.csv(\"csv_files/win_data_pro.csv\")\n",
    "PLACE_PRO_df <- read.csv(\"csv_files/place_data_PRO.csv\")"
   ]
  },
  {
   "cell_type": "code",
   "execution_count": 4,
   "metadata": {
    "vscode": {
     "languageId": "r"
    }
   },
   "outputs": [],
   "source": [
    "# Filter only on the rows where actual trades have been made\n",
    "WIN_PRO_df <- WIN_PRO_df %>% filter(trades != \"[]\")\n",
    "PLACE_PRO_df <- PLACE_PRO_df %>% filter(trades != \"[]\")\n",
    "\n",
    "# Remove trades column\n",
    "WIN_PRO_df <- WIN_PRO_df %>% select(-trades)\n",
    "PLACE_PRO_df <- PLACE_PRO_df %>% select(-trades)\n",
    "\n",
    "# Convert timestamp to POSIXct\n",
    "WIN_PRO_df <- WIN_PRO_df %>%\n",
    "  mutate(timestamp = as.POSIXct(timestamp_unix / 1000, origin = \"1970-01-01\", tz = \"GMT\"))\n",
    "\n",
    "PLACE_PRO_df <- PLACE_PRO_df %>%\n",
    "  mutate(timestamp = as.POSIXct(timestamp_unix / 1000, origin = \"1970-01-01\", tz = \"GMT\"))\n",
    "\n",
    "# Create a equal frequency bin for time\n",
    "WIN_PRO_df <- WIN_PRO_df %>%\n",
    "  mutate(time_bucket = floor(as.numeric(timestamp) / 12))\n",
    "\n",
    "PLACE_PRO_df <- PLACE_PRO_df %>%\n",
    "  mutate(time_bucket = floor(as.numeric(timestamp) / 12))\n",
    "\n",
    "# Create a size and price column. Price is set to last traded price, which is fine because we filtered out the rows with no trades.\n",
    "#Hence price is now actual trades, and size will be worked out later for each horse.\n",
    "WIN_PRO_df <- WIN_PRO_df %>%\n",
    "  mutate(\n",
    "    price = last_traded_price\n",
    "  )\n",
    "\n",
    "PLACE_PRO_df <- PLACE_PRO_df %>%\n",
    "  mutate(\n",
    "    price = last_traded_price\n",
    "  )\n"
   ]
  },
  {
   "cell_type": "code",
   "execution_count": 5,
   "metadata": {
    "vscode": {
     "languageId": "r"
    }
   },
   "outputs": [],
   "source": [
    "###Check horse IDS\n",
    "# Read the horse name data into a dataframe\n",
    "horse_names_df <- data.frame(\n",
    "  horse_id = c(8421889, 7560122, 5465145, 3415981, 5105924, 7401388),\n",
    "  horse_name = c(\"Romsdal\", \"Brown Panther\", \"Havana Beat\", \"Times Up\", \"Snow Sky\", \"Island Remede\")\n",
    ")"
   ]
  },
  {
   "cell_type": "code",
   "execution_count": 6,
   "metadata": {
    "vscode": {
     "languageId": "r"
    }
   },
   "outputs": [],
   "source": [
    "# Join the horse name data with the main dataframe\n",
    "WIN_PRO_df <- WIN_PRO_df %>%\n",
    "  left_join(horse_names_df, by = c(\"horse_id\" = \"horse_id\"))\n",
    "\n",
    "PLACE_PRO_df <- PLACE_PRO_df %>%\n",
    "  left_join(horse_names_df, by = c(\"horse_id\" = \"horse_id\"))"
   ]
  },
  {
   "cell_type": "code",
   "execution_count": 7,
   "metadata": {
    "vscode": {
     "languageId": "r"
    }
   },
   "outputs": [],
   "source": [
    "# Important instances to split df\n",
    "PP_t <- \"2015-05-15 16:07:00\"\n",
    "IP_t <- \"2015-05-15 16:16:00\"\n",
    "\n",
    "Bucket_size <- 12\n",
    "\n",
    "# Split the data frame into three parts based on the given times\n",
    "WIN_PRO_df_Morning <- WIN_PRO_df %>% filter(timestamp < PP_t)\n",
    "WIN_PRO_df_PP <- WIN_PRO_df %>% filter(timestamp >= PP_t & timestamp < IP_t)\n",
    "WIN_PRO_df_IP <- WIN_PRO_df %>% filter(timestamp >= IP_t)\n",
    "\n",
    "PLACE_PRO_df_Morning <- PLACE_PRO_df %>% filter(timestamp < PP_t)\n",
    "PLACE_PRO_df_PP <- PLACE_PRO_df %>% filter(timestamp >= PP_t & timestamp < IP_t)\n",
    "PLACE_PRO_df_IP <- PLACE_PRO_df %>% filter(timestamp >= IP_t)"
   ]
  },
  {
   "cell_type": "code",
   "execution_count": 8,
   "metadata": {
    "vscode": {
     "languageId": "r"
    }
   },
   "outputs": [
    {
     "data": {
      "image/png": "[encoded data removed]",
      "text/plain": [
       "plot without title"
      ]
     },
     "metadata": {
      "image/png": {
       "height": 420,
       "width": 420
      }
     },
     "output_type": "display_data"
    },
    {
     "data": {
      "image/png": "[encoded data removed]",
      "text/plain": [
       "plot without title"
      ]
     },
     "metadata": {
      "image/png": {
       "height": 420,
       "width": 420
      }
     },
     "output_type": "display_data"
    },
    {
     "data": {
      "image/png": "[encoded data removed]",
      "text/plain": [
       "plot without title"
      ]
     },
     "metadata": {
      "image/png": {
       "height": 420,
       "width": 420
      }
     },
     "output_type": "display_data"
    },
    {
     "data": {
      "image/png": "[encoded data removed]",
      "text/plain": [
       "plot without title"
      ]
     },
     "metadata": {
      "image/png": {
       "height": 420,
       "width": 420
      }
     },
     "output_type": "display_data"
    },
    {
     "data": {
      "image/png": "[encoded data removed]",
      "text/plain": [
       "plot without title"
      ]
     },
     "metadata": {
      "image/png": {
       "height": 420,
       "width": 420
      }
     },
     "output_type": "display_data"
    },
    {
     "data": {
      "image/png": "[encoded data removed]",
      "text/plain": [
       "plot without title"
      ]
     },
     "metadata": {
      "image/png": {
       "height": 420,
       "width": 420
      }
     },
     "output_type": "display_data"
    }
   ],
   "source": [
    "\n",
    "\n",
    "# Loop through each horse and create a plot and save dataframe for WIN_PRO_df\n",
    "for (horse in unique(WIN_PRO_df$horse_name)) {\n",
    "  horse_df <- WIN_PRO_df_PP %>% filter(horse_name == horse)\n",
    "  \n",
    "  # Group by time_bucket and calculate the size and Mean Price\n",
    "  horse_df <- horse_df %>%\n",
    "    group_by(time_bucket) %>%\n",
    "    summarise(\n",
    "      mean_price = mean(price, na.rm = TRUE)\n",
    "    )\n",
    "  \n",
    "  # Save the horse-specific dataframe to a variable named after the horse\n",
    "  assign(paste0(gsub(\" \", \"_\", horse), \"_WIN_df\"), horse_df)\n",
    "\n",
    "\n",
    "\n",
    "  \n",
    "  # Create the plot with only price\n",
    "  p <- ggplot(data = horse_df, aes(x = as.POSIXct(time_bucket * Bucket_size, origin = \"1970-01-01\", tz = \"GMT\"), y = mean_price)) +\n",
    "    geom_line() +\n",
    "    geom_point() +\n",
    "    labs(\n",
    "      title = paste(\"WIN market Price Over Time for\", horse),\n",
    "      x = \"Time\",\n",
    "      y = \"Mean Price\"\n",
    "    ) +\n",
    "    theme_minimal() +\n",
    "    theme(\n",
    "      axis.text.x = element_text(angle = 45, hjust = 1),\n",
    "      legend.position = \"bottom\"\n",
    "    ) +\n",
    "    scale_x_datetime(date_breaks = \"1 min\", date_labels = \"%H:%M\")\n",
    "  \n",
    "  # Print the plot\n",
    "  print(p)\n",
    "}\n",
    "  "
   ]
  },
  {
   "cell_type": "code",
   "execution_count": 9,
   "metadata": {
    "vscode": {
     "languageId": "r"
    }
   },
   "outputs": [
    {
     "data": {
      "image/png": "[encoded data removed]",
      "text/plain": [
       "plot without title"
      ]
     },
     "metadata": {
      "image/png": {
       "height": 420,
       "width": 420
      }
     },
     "output_type": "display_data"
    },
    {
     "data": {
      "image/png": "[encoded data removed]",
      "text/plain": [
       "plot without title"
      ]
     },
     "metadata": {
      "image/png": {
       "height": 420,
       "width": 420
      }
     },
     "output_type": "display_data"
    },
    {
     "data": {
      "image/png": "[encoded data removed]",
      "text/plain": [
       "plot without title"
      ]
     },
     "metadata": {
      "image/png": {
       "height": 420,
       "width": 420
      }
     },
     "output_type": "display_data"
    },
    {
     "data": {
      "image/png": "[encoded data removed]",
      "text/plain": [
       "plot without title"
      ]
     },
     "metadata": {
      "image/png": {
       "height": 420,
       "width": 420
      }
     },
     "output_type": "display_data"
    },
    {
     "data": {
      "image/png": "[encoded data removed]",
      "text/plain": [
       "plot without title"
      ]
     },
     "metadata": {
      "image/png": {
       "height": 420,
       "width": 420
      }
     },
     "output_type": "display_data"
    },
    {
     "data": {
      "image/png": "[encoded data removed]",
      "text/plain": [
       "plot without title"
      ]
     },
     "metadata": {
      "image/png": {
       "height": 420,
       "width": 420
      }
     },
     "output_type": "display_data"
    }
   ],
   "source": [
    "# Loop through each horse and create a plot and save dataframe for PLACE_PRO_df\n",
    "for (horse in unique(PLACE_PRO_df$horse_name)) {\n",
    "  horse_df <- PLACE_PRO_df_PP %>% filter(horse_name == horse)\n",
    "  \n",
    "  \n",
    "  # Group by time_bucket and calculate the size and Mean Price\n",
    "  horse_df <- horse_df %>%\n",
    "    group_by(time_bucket) %>%\n",
    "    summarise(\n",
    "      #total_size = sum(size, na.rm = TRUE),\n",
    "      #mean_price = sum(price * size, na.rm = TRUE) / sum(size, na.rm = TRUE)\n",
    "      mean_price = mean(price, na.rm = TRUE)\n",
    "    )\n",
    "  \n",
    "  # Save the horse-specific dataframe to a variable named after the horse\n",
    "  assign(paste0(gsub(\" \", \"_\", horse), \"_PLACE_df\"), horse_df)\n",
    "  \n",
    "  # Create the plot with only price\n",
    "  p <- ggplot(data = horse_df, aes(x = as.POSIXct(time_bucket * Bucket_size, origin = \"1970-01-01\", tz = \"GMT\"), y = mean_price)) +\n",
    "    geom_line() +\n",
    "    geom_point() +\n",
    "    labs(\n",
    "      title = paste(\"PLACE market Price Over Time for\", horse),\n",
    "      x = \"Time\",\n",
    "      y = \"Mean Price\"\n",
    "    ) +\n",
    "    theme_minimal() +\n",
    "    theme(\n",
    "      axis.text.x = element_text(angle = 45, hjust = 1),\n",
    "      legend.position = \"bottom\"\n",
    "    ) +\n",
    "    scale_x_datetime(date_breaks = \"1 min\", date_labels = \"%H:%M\")\n",
    "  \n",
    "  # Print the plot\n",
    "  print(p)\n",
    "}"
   ]
  },
  {
   "cell_type": "markdown",
   "metadata": {},
   "source": [
    "### EXPLORATORY DATA ANALYSIS WIN MARKET (SELECTING SNOW SKY)\n"
   ]
  },
  {
   "cell_type": "code",
   "execution_count": 10,
   "metadata": {
    "vscode": {
     "languageId": "r"
    }
   },
   "outputs": [
    {
     "data": {
      "text/html": [
       "<table class=\"dataframe\">\n",
       "<caption>A tibble: 6 × 2</caption>\n",
       "<thead>\n",
       "\t<tr><th scope=col>time_bucket</th><th scope=col>mean_price</th></tr>\n",
       "\t<tr><th scope=col>&lt;dbl&gt;</th><th scope=col>&lt;dbl&gt;</th></tr>\n",
       "</thead>\n",
       "<tbody>\n",
       "\t<tr><td>119308235</td><td>3.067143</td></tr>\n",
       "\t<tr><td>119308236</td><td>3.057292</td></tr>\n",
       "\t<tr><td>119308237</td><td>3.062000</td></tr>\n",
       "\t<tr><td>119308238</td><td>3.065385</td></tr>\n",
       "\t<tr><td>119308239</td><td>3.070896</td></tr>\n",
       "\t<tr><td>119308240</td><td>3.067778</td></tr>\n",
       "</tbody>\n",
       "</table>\n"
      ],
      "text/latex": [
       "A tibble: 6 × 2\n",
       "\\begin{tabular}{ll}\n",
       " time\\_bucket & mean\\_price\\\\\n",
       " <dbl> & <dbl>\\\\\n",
       "\\hline\n",
       "\t 119308235 & 3.067143\\\\\n",
       "\t 119308236 & 3.057292\\\\\n",
       "\t 119308237 & 3.062000\\\\\n",
       "\t 119308238 & 3.065385\\\\\n",
       "\t 119308239 & 3.070896\\\\\n",
       "\t 119308240 & 3.067778\\\\\n",
       "\\end{tabular}\n"
      ],
      "text/markdown": [
       "\n",
       "A tibble: 6 × 2\n",
       "\n",
       "| time_bucket &lt;dbl&gt; | mean_price &lt;dbl&gt; |\n",
       "|---|---|\n",
       "| 119308235 | 3.067143 |\n",
       "| 119308236 | 3.057292 |\n",
       "| 119308237 | 3.062000 |\n",
       "| 119308238 | 3.065385 |\n",
       "| 119308239 | 3.070896 |\n",
       "| 119308240 | 3.067778 |\n",
       "\n"
      ],
      "text/plain": [
       "  time_bucket mean_price\n",
       "1 119308235   3.067143  \n",
       "2 119308236   3.057292  \n",
       "3 119308237   3.062000  \n",
       "4 119308238   3.065385  \n",
       "5 119308239   3.070896  \n",
       "6 119308240   3.067778  "
      ]
     },
     "metadata": {},
     "output_type": "display_data"
    },
    {
     "data": {
      "text/html": [
       "<table class=\"dataframe\">\n",
       "<caption>A tibble: 6 × 2</caption>\n",
       "<thead>\n",
       "\t<tr><th scope=col>time_bucket</th><th scope=col>mean_price</th></tr>\n",
       "\t<tr><th scope=col>&lt;dbl&gt;</th><th scope=col>&lt;dbl&gt;</th></tr>\n",
       "</thead>\n",
       "<tbody>\n",
       "\t<tr><td>119308235</td><td>1.67375</td></tr>\n",
       "\t<tr><td>119308236</td><td>1.66400</td></tr>\n",
       "\t<tr><td>119308237</td><td>1.64500</td></tr>\n",
       "\t<tr><td>119308238</td><td>1.64750</td></tr>\n",
       "\t<tr><td>119308239</td><td>1.64000</td></tr>\n",
       "\t<tr><td>119308240</td><td>1.65125</td></tr>\n",
       "</tbody>\n",
       "</table>\n"
      ],
      "text/latex": [
       "A tibble: 6 × 2\n",
       "\\begin{tabular}{ll}\n",
       " time\\_bucket & mean\\_price\\\\\n",
       " <dbl> & <dbl>\\\\\n",
       "\\hline\n",
       "\t 119308235 & 1.67375\\\\\n",
       "\t 119308236 & 1.66400\\\\\n",
       "\t 119308237 & 1.64500\\\\\n",
       "\t 119308238 & 1.64750\\\\\n",
       "\t 119308239 & 1.64000\\\\\n",
       "\t 119308240 & 1.65125\\\\\n",
       "\\end{tabular}\n"
      ],
      "text/markdown": [
       "\n",
       "A tibble: 6 × 2\n",
       "\n",
       "| time_bucket &lt;dbl&gt; | mean_price &lt;dbl&gt; |\n",
       "|---|---|\n",
       "| 119308235 | 1.67375 |\n",
       "| 119308236 | 1.66400 |\n",
       "| 119308237 | 1.64500 |\n",
       "| 119308238 | 1.64750 |\n",
       "| 119308239 | 1.64000 |\n",
       "| 119308240 | 1.65125 |\n",
       "\n"
      ],
      "text/plain": [
       "  time_bucket mean_price\n",
       "1 119308235   1.67375   \n",
       "2 119308236   1.66400   \n",
       "3 119308237   1.64500   \n",
       "4 119308238   1.64750   \n",
       "5 119308239   1.64000   \n",
       "6 119308240   1.65125   "
      ]
     },
     "metadata": {},
     "output_type": "display_data"
    }
   ],
   "source": [
    "head(Snow_Sky_WIN_df)\n",
    "head(Snow_Sky_PLACE_df)"
   ]
  },
  {
   "cell_type": "code",
   "execution_count": 11,
   "metadata": {
    "vscode": {
     "languageId": "r"
    }
   },
   "outputs": [
    {
     "name": "stdout",
     "output_type": "stream",
     "text": [
      "   Min. 1st Qu.  Median    Mean 3rd Qu.    Max. \n",
      "  2.742   2.774   2.881   2.902   3.029   3.109 \n",
      "   Min. 1st Qu.  Median    Mean 3rd Qu.    Max. \n",
      "  1.509   1.540   1.571   1.582   1.621   1.674 \n"
     ]
    }
   ],
   "source": [
    "# Step 2: Data Exploration\n",
    "# Summary statistics of key variables\n",
    "\n",
    "print(summary(Snow_Sky_WIN_df$mean_price))\n",
    "print(summary(Snow_Sky_PLACE_df$mean_price))"
   ]
  },
  {
   "cell_type": "code",
   "execution_count": 12,
   "metadata": {
    "vscode": {
     "languageId": "r"
    }
   },
   "outputs": [
    {
     "name": "stdout",
     "output_type": "stream",
     "text": [
      "[1] 0\n",
      "[1] 0\n",
      "[1] 0\n",
      "[1] 0\n"
     ]
    }
   ],
   "source": [
    "# Check for missing and duplicates in the values\n",
    "print(sum(is.na(Snow_Sky_WIN_df$mean_price)))\n",
    "print(sum(is.na(Snow_Sky_PLACE_df$mean_price)))\n",
    "\n",
    "# Check duplicate rows\n",
    "print(sum(duplicated(Snow_Sky_WIN_df)))\n",
    "print(sum(duplicated(Snow_Sky_PLACE_df)))"
   ]
  },
  {
   "cell_type": "code",
   "execution_count": 13,
   "metadata": {
    "vscode": {
     "languageId": "r"
    }
   },
   "outputs": [
    {
     "data": {
      "text/plain": [
       "   Min. 1st Qu.  Median    Mean 3rd Qu.    Max. \n",
       "  2.742   2.774   2.881   2.902   3.029   3.109 "
      ]
     },
     "metadata": {},
     "output_type": "display_data"
    },
    {
     "name": "stdout",
     "output_type": "stream",
     "text": [
      " Time-Series [1:45] from 1 to 4.67: 3.07 3.06 3.06 3.07 3.07 ...\n"
     ]
    },
    {
     "data": {
      "text/html": [
       "45"
      ],
      "text/latex": [
       "45"
      ],
      "text/markdown": [
       "45"
      ],
      "text/plain": [
       "[1] 45"
      ]
     },
     "metadata": {},
     "output_type": "display_data"
    },
    {
     "data": {
      "text/html": [
       "<table class=\"dataframe\">\n",
       "<caption>A Time Series: 1 × 6</caption>\n",
       "<thead>\n",
       "\t<tr><th></th><th scope=col>Jan</th><th scope=col>Feb</th><th scope=col>Mar</th><th scope=col>Apr</th><th scope=col>May</th><th scope=col>Jun</th></tr>\n",
       "</thead>\n",
       "<tbody>\n",
       "\t<tr><th scope=row>1</th><td>3.067143</td><td>3.057292</td><td>3.062000</td><td>3.065385</td><td>3.070896</td><td>3.067778</td></tr>\n",
       "</tbody>\n",
       "</table>\n"
      ],
      "text/latex": [
       "A Time Series: 1 × 6\n",
       "\\begin{tabular}{r|llllll}\n",
       "  & Jan & Feb & Mar & Apr & May & Jun\\\\\n",
       "\\hline\n",
       "\t1 & 3.067143 & 3.057292 & 3.062000 & 3.065385 & 3.070896 & 3.067778\\\\\n",
       "\\end{tabular}\n"
      ],
      "text/markdown": [
       "\n",
       "A Time Series: 1 × 6\n",
       "\n",
       "| <!--/--> | Jan | Feb | Mar | Apr | May | Jun |\n",
       "|---|---|---|---|---|---|---|\n",
       "| 1 | 3.067143 | 3.057292 | 3.062000 | 3.065385 | 3.070896 | 3.067778 |\n",
       "\n"
      ],
      "text/plain": [
       "  Jan      Feb      Mar      Apr      May      Jun     \n",
       "1 3.067143 3.057292 3.062000 3.065385 3.070896 3.067778"
      ]
     },
     "metadata": {},
     "output_type": "display_data"
    }
   ],
   "source": [
    "# Convert 'time_bucket' to POSIXct for proper time handling\n",
    "Snow_Sky_WIN_df <- Snow_Sky_WIN_df %>%\n",
    "  mutate(timestamp = as.POSIXct(time_bucket * Bucket_size, origin = \"1970-01-01\", tz = \"GMT\"))\n",
    "\n",
    "# Check the range of the timestamp\n",
    "start_time <- min(Snow_Sky_WIN_df$timestamp)\n",
    "end_time <- max(Snow_Sky_WIN_df$timestamp)\n",
    "\n",
    "# Create a sequence of time points from start to end with a step of 6 seconds\n",
    "time_points <- seq(from = start_time, to = end_time, by = Bucket_size)\n",
    "\n",
    "# Create a complete data frame with these time points\n",
    "complete_data <- data.frame(timestamp = time_points)\n",
    "\n",
    "# Merge with the original data to ensure alignment\n",
    "complete_data <- complete_data %>%\n",
    "  left_join(Snow_Sky_WIN_df, by = \"timestamp\")\n",
    "\n",
    "# Fill missing prices with NA or any other method if necessary\n",
    "complete_data <- complete_data %>%\n",
    "  mutate(mean_price = ifelse(is.na(mean_price), NA, mean_price))\n",
    "\n",
    "# Check the filled price data\n",
    "summary(complete_data$mean_price)\n",
    "\n",
    "# Extract the filled price data\n",
    "filled_price_data <- complete_data$mean_price\n",
    "\n",
    "# Create the time series object\n",
    "# Use a lower frequency to match the length of the time series\n",
    "# For example, assuming a reasonable periodicity within the data length\n",
    "WIN_price_ts <- ts(filled_price_data, frequency = Bucket_size)\n",
    "\n",
    "# Check the structure and length of the time series object\n",
    "str(WIN_price_ts)\n",
    "length(WIN_price_ts)\n",
    "\n",
    "# Display the first few entries of the time series object\n",
    "head(WIN_price_ts)\n",
    "\n"
   ]
  },
  {
   "cell_type": "code",
   "execution_count": 14,
   "metadata": {
    "vscode": {
     "languageId": "r"
    }
   },
   "outputs": [
    {
     "data": {
      "text/plain": [
       "   Min. 1st Qu.  Median    Mean 3rd Qu.    Max. \n",
       "  1.509   1.540   1.571   1.582   1.621   1.674 "
      ]
     },
     "metadata": {},
     "output_type": "display_data"
    },
    {
     "name": "stdout",
     "output_type": "stream",
     "text": [
      " Time-Series [1:45] from 1 to 4.67: 1.67 1.66 1.64 1.65 1.64 ...\n"
     ]
    },
    {
     "data": {
      "text/html": [
       "45"
      ],
      "text/latex": [
       "45"
      ],
      "text/markdown": [
       "45"
      ],
      "text/plain": [
       "[1] 45"
      ]
     },
     "metadata": {},
     "output_type": "display_data"
    },
    {
     "data": {
      "text/html": [
       "<table class=\"dataframe\">\n",
       "<caption>A Time Series: 1 × 6</caption>\n",
       "<thead>\n",
       "\t<tr><th></th><th scope=col>Jan</th><th scope=col>Feb</th><th scope=col>Mar</th><th scope=col>Apr</th><th scope=col>May</th><th scope=col>Jun</th></tr>\n",
       "</thead>\n",
       "<tbody>\n",
       "\t<tr><th scope=row>1</th><td>1.67375</td><td>1.66400</td><td>1.64500</td><td>1.64750</td><td>1.64000</td><td>1.65125</td></tr>\n",
       "</tbody>\n",
       "</table>\n"
      ],
      "text/latex": [
       "A Time Series: 1 × 6\n",
       "\\begin{tabular}{r|llllll}\n",
       "  & Jan & Feb & Mar & Apr & May & Jun\\\\\n",
       "\\hline\n",
       "\t1 & 1.67375 & 1.66400 & 1.64500 & 1.64750 & 1.64000 & 1.65125\\\\\n",
       "\\end{tabular}\n"
      ],
      "text/markdown": [
       "\n",
       "A Time Series: 1 × 6\n",
       "\n",
       "| <!--/--> | Jan | Feb | Mar | Apr | May | Jun |\n",
       "|---|---|---|---|---|---|---|\n",
       "| 1 | 1.67375 | 1.66400 | 1.64500 | 1.64750 | 1.64000 | 1.65125 |\n",
       "\n"
      ],
      "text/plain": [
       "  Jan     Feb     Mar     Apr     May     Jun    \n",
       "1 1.67375 1.66400 1.64500 1.64750 1.64000 1.65125"
      ]
     },
     "metadata": {},
     "output_type": "display_data"
    }
   ],
   "source": [
    "# Convert 'time_bucket' to POSIXct for proper time handling\n",
    "Snow_Sky_PLACE_df <- Snow_Sky_PLACE_df %>%\n",
    "  mutate(timestamp = as.POSIXct(time_bucket * Bucket_size, origin = \"1970-01-01\", tz = \"GMT\"))\n",
    "\n",
    "# Check the range of the timestamp\n",
    "start_time <- min(Snow_Sky_PLACE_df$timestamp)\n",
    "end_time <- max(Snow_Sky_PLACE_df$timestamp)\n",
    "\n",
    "# Create a sequence of time points from start to end with a step of 6 seconds\n",
    "time_points <- seq(from = start_time, to = end_time, by = Bucket_size)\n",
    "\n",
    "# Create a complete data frame with these time points\n",
    "complete_data <- data.frame(timestamp = time_points)\n",
    "\n",
    "# Merge with the original data to ensure alignment\n",
    "complete_data <- complete_data %>%\n",
    "  left_join(Snow_Sky_PLACE_df, by = \"timestamp\")\n",
    "\n",
    "# Fill missing prices with NA or any other method if necessary\n",
    "complete_data <- complete_data %>%\n",
    "  mutate(mean_price = ifelse(is.na(mean_price), NA, mean_price))\n",
    "\n",
    "# Check the filled price data\n",
    "summary(complete_data$mean_price)\n",
    "\n",
    "# Extract the filled price data\n",
    "filled_price_data <- complete_data$mean_price\n",
    "\n",
    "# Create the time series object\n",
    "# Use a lower frequency to match the length of the time series\n",
    "# For example, assuming a reasonable periodicity within the data length\n",
    "PLACE_price_ts <- ts(filled_price_data, frequency = Bucket_size)\n",
    "\n",
    "# Check the structure and length of the time series object\n",
    "str(PLACE_price_ts)\n",
    "length(PLACE_price_ts)\n",
    "\n",
    "# Display the first few entries of the time series object\n",
    "head(PLACE_price_ts)"
   ]
  },
  {
   "cell_type": "code",
   "execution_count": 15,
   "metadata": {
    "vscode": {
     "languageId": "r"
    }
   },
   "outputs": [
    {
     "data": {
      "image/png": "[encoded data removed]",
      "text/plain": [
       "Plot with title \"Win Price Time Series for Snow Sky\""
      ]
     },
     "metadata": {
      "image/png": {
       "height": 420,
       "width": 420
      }
     },
     "output_type": "display_data"
    }
   ],
   "source": [
    "plot(WIN_price_ts, main=\"Win Price Time Series for Snow Sky\", xlab=\"Time\", ylab=\"Price\", type=\"l\")\n"
   ]
  },
  {
   "cell_type": "code",
   "execution_count": 16,
   "metadata": {
    "vscode": {
     "languageId": "r"
    }
   },
   "outputs": [
    {
     "data": {
      "image/png": "[encoded data removed]",
      "text/plain": [
       "Plot with title \"PLACE Price Time Series for Snow Sky\""
      ]
     },
     "metadata": {
      "image/png": {
       "height": 420,
       "width": 420
      }
     },
     "output_type": "display_data"
    }
   ],
   "source": [
    "plot(PLACE_price_ts, main=\"PLACE Price Time Series for Snow Sky\", xlab=\"Time\", ylab=\"Price\", type=\"l\")"
   ]
  },
  {
   "cell_type": "code",
   "execution_count": 17,
   "metadata": {
    "vscode": {
     "languageId": "r"
    }
   },
   "outputs": [
    {
     "name": "stdout",
     "output_type": "stream",
     "text": [
      "\n",
      "\tAugmented Dickey-Fuller Test\n",
      "\n",
      "data:  WIN_price_ts\n",
      "Dickey-Fuller = -2.0381, Lag order = 3, p-value = 0.5587\n",
      "alternative hypothesis: stationary\n",
      "\n",
      "\n",
      "\tAugmented Dickey-Fuller Test\n",
      "\n",
      "data:  PLACE_price_ts\n",
      "Dickey-Fuller = -1.7054, Lag order = 3, p-value = 0.6908\n",
      "alternative hypothesis: stationary\n",
      "\n"
     ]
    }
   ],
   "source": [
    "# Step 4: Statistical Tests\n",
    "# Testing for stationarity\n",
    "adf_test_result <- adf.test(WIN_price_ts, alternative = \"stationary\")\n",
    "print(adf_test_result)\n",
    "\n",
    "adf_test_result_2 <- adf.test(PLACE_price_ts, alternative = \"stationary\")\n",
    "print(adf_test_result_2)\n",
    "\n"
   ]
  },
  {
   "cell_type": "markdown",
   "metadata": {},
   "source": [
    "Its not stationary. Therefore we need to break it down and to understand the underlying components.\n"
   ]
  },
  {
   "cell_type": "code",
   "execution_count": 18,
   "metadata": {
    "vscode": {
     "languageId": "r"
    }
   },
   "outputs": [],
   "source": [
    "#NOT SURE IF THIS IS REQUIRED?\n",
    "# Enhanced boxplot visualization of monthly price distribution per year\n",
    "# Snow_Sky_WIN_df %>%\n",
    "#   mutate(year = year(timestamp), month = month(timestamp), month_name = month(timestamp, label = TRUE)) %>%\n",
    "#   ggplot(aes(x = month_name, y = price, fill = month_name)) +  # Use month name and fill by month\n",
    "#   geom_boxplot(outlier.shape = NA) +  # Remove default outlier points\n",
    "#   geom_jitter(width = 0.1, alpha = 0.5, color = \"darkgray\") +  # Add jittered points for individual data observation\n",
    "#   scale_fill_brewer(palette = \"Paired\") +  # Apply a color palette for aesthetics\n",
    "#   labs(title = \"Price Distribution \",\n",
    "#        subtitle = \"Snow Sky\",) +\n",
    "#   facet_wrap(~year) +  # Facet by year to see year-wise trends\n",
    "#   theme_minimal() +  # Use a minimal theme\n",
    "#   theme(\n",
    "#     strip.background = element_rect(fill = \"lightblue\", color = \"deepskyblue\", size = 1),  # Customize facet headers\n",
    "#     strip.text = element_text(face = \"bold\"),  # Bold facet header text\n",
    "#     axis.text.x = element_text(angle = 45, hjust = 1),  # Improve x-axis label readability\n",
    "#     legend.position = \"none\",  # Hide the legend as the color is self-explanatory\n",
    "#     plot.title = element_text(hjust = 0.5),  # Center the title\n",
    "#     plot.subtitle = element_text(hjust = 0.5)  # Center the subtitle\n",
    "#   )\n"
   ]
  },
  {
   "cell_type": "code",
   "execution_count": 19,
   "metadata": {
    "vscode": {
     "languageId": "r"
    }
   },
   "outputs": [
    {
     "data": {
      "image/png": "[encoded data removed]",
      "text/plain": [
       "plot without title"
      ]
     },
     "metadata": {
      "image/png": {
       "height": 420,
       "width": 420
      }
     },
     "output_type": "display_data"
    },
    {
     "data": {
      "image/png": "[encoded data removed]",
      "text/plain": [
       "plot without title"
      ]
     },
     "metadata": {
      "image/png": {
       "height": 420,
       "width": 420
      }
     },
     "output_type": "display_data"
    }
   ],
   "source": [
    "# Step 5: Decomposition of Time Series (if seasonal patterns expected)\n",
    "decomposed <- stl(WIN_price_ts, s.window = \"periodic\")\n",
    "plot(decomposed)\n",
    "\n",
    "decomposed_2 <- stl(PLACE_price_ts, s.window = \"periodic\")\n",
    "plot(decomposed_2)\n",
    "\n"
   ]
  },
  {
   "cell_type": "code",
   "execution_count": 20,
   "metadata": {
    "vscode": {
     "languageId": "r"
    }
   },
   "outputs": [],
   "source": [
    "snow_sky_W_diff1 <- diff(Snow_Sky_WIN_df$mean_price, lag = 1)\n",
    "\n",
    "snow_sky_P_diff1 <- diff(Snow_Sky_PLACE_df$mean_price, lag = 1)\n"
   ]
  },
  {
   "cell_type": "code",
   "execution_count": 21,
   "metadata": {
    "vscode": {
     "languageId": "r"
    }
   },
   "outputs": [
    {
     "data": {
      "text/html": [
       "<table class=\"dataframe\">\n",
       "<caption>A tibble: 6 × 3</caption>\n",
       "<thead>\n",
       "\t<tr><th scope=col>time_bucket</th><th scope=col>mean_price</th><th scope=col>timestamp</th></tr>\n",
       "\t<tr><th scope=col>&lt;dbl&gt;</th><th scope=col>&lt;dbl&gt;</th><th scope=col>&lt;dttm&gt;</th></tr>\n",
       "</thead>\n",
       "<tbody>\n",
       "\t<tr><td>119308274</td><td>2.776316</td><td>2015-05-15 14:14:48</td></tr>\n",
       "\t<tr><td>119308275</td><td>2.774062</td><td>2015-05-15 14:15:00</td></tr>\n",
       "\t<tr><td>119308276</td><td>2.752083</td><td>2015-05-15 14:15:12</td></tr>\n",
       "\t<tr><td>119308277</td><td>2.754286</td><td>2015-05-15 14:15:24</td></tr>\n",
       "\t<tr><td>119308278</td><td>2.754634</td><td>2015-05-15 14:15:36</td></tr>\n",
       "\t<tr><td>119308279</td><td>2.763273</td><td>2015-05-15 14:15:48</td></tr>\n",
       "</tbody>\n",
       "</table>\n"
      ],
      "text/latex": [
       "A tibble: 6 × 3\n",
       "\\begin{tabular}{lll}\n",
       " time\\_bucket & mean\\_price & timestamp\\\\\n",
       " <dbl> & <dbl> & <dttm>\\\\\n",
       "\\hline\n",
       "\t 119308274 & 2.776316 & 2015-05-15 14:14:48\\\\\n",
       "\t 119308275 & 2.774062 & 2015-05-15 14:15:00\\\\\n",
       "\t 119308276 & 2.752083 & 2015-05-15 14:15:12\\\\\n",
       "\t 119308277 & 2.754286 & 2015-05-15 14:15:24\\\\\n",
       "\t 119308278 & 2.754634 & 2015-05-15 14:15:36\\\\\n",
       "\t 119308279 & 2.763273 & 2015-05-15 14:15:48\\\\\n",
       "\\end{tabular}\n"
      ],
      "text/markdown": [
       "\n",
       "A tibble: 6 × 3\n",
       "\n",
       "| time_bucket &lt;dbl&gt; | mean_price &lt;dbl&gt; | timestamp &lt;dttm&gt; |\n",
       "|---|---|---|\n",
       "| 119308274 | 2.776316 | 2015-05-15 14:14:48 |\n",
       "| 119308275 | 2.774062 | 2015-05-15 14:15:00 |\n",
       "| 119308276 | 2.752083 | 2015-05-15 14:15:12 |\n",
       "| 119308277 | 2.754286 | 2015-05-15 14:15:24 |\n",
       "| 119308278 | 2.754634 | 2015-05-15 14:15:36 |\n",
       "| 119308279 | 2.763273 | 2015-05-15 14:15:48 |\n",
       "\n"
      ],
      "text/plain": [
       "  time_bucket mean_price timestamp          \n",
       "1 119308274   2.776316   2015-05-15 14:14:48\n",
       "2 119308275   2.774062   2015-05-15 14:15:00\n",
       "3 119308276   2.752083   2015-05-15 14:15:12\n",
       "4 119308277   2.754286   2015-05-15 14:15:24\n",
       "5 119308278   2.754634   2015-05-15 14:15:36\n",
       "6 119308279   2.763273   2015-05-15 14:15:48"
      ]
     },
     "metadata": {},
     "output_type": "display_data"
    },
    {
     "data": {
      "text/html": [
       "<table class=\"dataframe\">\n",
       "<caption>A tibble: 6 × 3</caption>\n",
       "<thead>\n",
       "\t<tr><th scope=col>time_bucket</th><th scope=col>mean_price</th><th scope=col>timestamp</th></tr>\n",
       "\t<tr><th scope=col>&lt;dbl&gt;</th><th scope=col>&lt;dbl&gt;</th><th scope=col>&lt;dttm&gt;</th></tr>\n",
       "</thead>\n",
       "<tbody>\n",
       "\t<tr><td>119308274</td><td>1.547273</td><td>2015-05-15 14:14:48</td></tr>\n",
       "\t<tr><td>119308275</td><td>1.547500</td><td>2015-05-15 14:15:00</td></tr>\n",
       "\t<tr><td>119308276</td><td>1.536667</td><td>2015-05-15 14:15:12</td></tr>\n",
       "\t<tr><td>119308277</td><td>1.537500</td><td>2015-05-15 14:15:24</td></tr>\n",
       "\t<tr><td>119308278</td><td>1.554444</td><td>2015-05-15 14:15:36</td></tr>\n",
       "\t<tr><td>119308279</td><td>1.553750</td><td>2015-05-15 14:15:48</td></tr>\n",
       "</tbody>\n",
       "</table>\n"
      ],
      "text/latex": [
       "A tibble: 6 × 3\n",
       "\\begin{tabular}{lll}\n",
       " time\\_bucket & mean\\_price & timestamp\\\\\n",
       " <dbl> & <dbl> & <dttm>\\\\\n",
       "\\hline\n",
       "\t 119308274 & 1.547273 & 2015-05-15 14:14:48\\\\\n",
       "\t 119308275 & 1.547500 & 2015-05-15 14:15:00\\\\\n",
       "\t 119308276 & 1.536667 & 2015-05-15 14:15:12\\\\\n",
       "\t 119308277 & 1.537500 & 2015-05-15 14:15:24\\\\\n",
       "\t 119308278 & 1.554444 & 2015-05-15 14:15:36\\\\\n",
       "\t 119308279 & 1.553750 & 2015-05-15 14:15:48\\\\\n",
       "\\end{tabular}\n"
      ],
      "text/markdown": [
       "\n",
       "A tibble: 6 × 3\n",
       "\n",
       "| time_bucket &lt;dbl&gt; | mean_price &lt;dbl&gt; | timestamp &lt;dttm&gt; |\n",
       "|---|---|---|\n",
       "| 119308274 | 1.547273 | 2015-05-15 14:14:48 |\n",
       "| 119308275 | 1.547500 | 2015-05-15 14:15:00 |\n",
       "| 119308276 | 1.536667 | 2015-05-15 14:15:12 |\n",
       "| 119308277 | 1.537500 | 2015-05-15 14:15:24 |\n",
       "| 119308278 | 1.554444 | 2015-05-15 14:15:36 |\n",
       "| 119308279 | 1.553750 | 2015-05-15 14:15:48 |\n",
       "\n"
      ],
      "text/plain": [
       "  time_bucket mean_price timestamp          \n",
       "1 119308274   1.547273   2015-05-15 14:14:48\n",
       "2 119308275   1.547500   2015-05-15 14:15:00\n",
       "3 119308276   1.536667   2015-05-15 14:15:12\n",
       "4 119308277   1.537500   2015-05-15 14:15:24\n",
       "5 119308278   1.554444   2015-05-15 14:15:36\n",
       "6 119308279   1.553750   2015-05-15 14:15:48"
      ]
     },
     "metadata": {},
     "output_type": "display_data"
    },
    {
     "data": {
      "text/html": [
       "<table class=\"dataframe\">\n",
       "<caption>A tibble: 6 × 3</caption>\n",
       "<thead>\n",
       "\t<tr><th scope=col>time_bucket</th><th scope=col>mean_price</th><th scope=col>timestamp</th></tr>\n",
       "\t<tr><th scope=col>&lt;dbl&gt;</th><th scope=col>&lt;dbl&gt;</th><th scope=col>&lt;dttm&gt;</th></tr>\n",
       "</thead>\n",
       "<tbody>\n",
       "\t<tr><td>119308235</td><td>3.067143</td><td>2015-05-15 14:07:00</td></tr>\n",
       "\t<tr><td>119308236</td><td>3.057292</td><td>2015-05-15 14:07:12</td></tr>\n",
       "\t<tr><td>119308237</td><td>3.062000</td><td>2015-05-15 14:07:24</td></tr>\n",
       "\t<tr><td>119308238</td><td>3.065385</td><td>2015-05-15 14:07:36</td></tr>\n",
       "\t<tr><td>119308239</td><td>3.070896</td><td>2015-05-15 14:07:48</td></tr>\n",
       "\t<tr><td>119308240</td><td>3.067778</td><td>2015-05-15 14:08:00</td></tr>\n",
       "</tbody>\n",
       "</table>\n"
      ],
      "text/latex": [
       "A tibble: 6 × 3\n",
       "\\begin{tabular}{lll}\n",
       " time\\_bucket & mean\\_price & timestamp\\\\\n",
       " <dbl> & <dbl> & <dttm>\\\\\n",
       "\\hline\n",
       "\t 119308235 & 3.067143 & 2015-05-15 14:07:00\\\\\n",
       "\t 119308236 & 3.057292 & 2015-05-15 14:07:12\\\\\n",
       "\t 119308237 & 3.062000 & 2015-05-15 14:07:24\\\\\n",
       "\t 119308238 & 3.065385 & 2015-05-15 14:07:36\\\\\n",
       "\t 119308239 & 3.070896 & 2015-05-15 14:07:48\\\\\n",
       "\t 119308240 & 3.067778 & 2015-05-15 14:08:00\\\\\n",
       "\\end{tabular}\n"
      ],
      "text/markdown": [
       "\n",
       "A tibble: 6 × 3\n",
       "\n",
       "| time_bucket &lt;dbl&gt; | mean_price &lt;dbl&gt; | timestamp &lt;dttm&gt; |\n",
       "|---|---|---|\n",
       "| 119308235 | 3.067143 | 2015-05-15 14:07:00 |\n",
       "| 119308236 | 3.057292 | 2015-05-15 14:07:12 |\n",
       "| 119308237 | 3.062000 | 2015-05-15 14:07:24 |\n",
       "| 119308238 | 3.065385 | 2015-05-15 14:07:36 |\n",
       "| 119308239 | 3.070896 | 2015-05-15 14:07:48 |\n",
       "| 119308240 | 3.067778 | 2015-05-15 14:08:00 |\n",
       "\n"
      ],
      "text/plain": [
       "  time_bucket mean_price timestamp          \n",
       "1 119308235   3.067143   2015-05-15 14:07:00\n",
       "2 119308236   3.057292   2015-05-15 14:07:12\n",
       "3 119308237   3.062000   2015-05-15 14:07:24\n",
       "4 119308238   3.065385   2015-05-15 14:07:36\n",
       "5 119308239   3.070896   2015-05-15 14:07:48\n",
       "6 119308240   3.067778   2015-05-15 14:08:00"
      ]
     },
     "metadata": {},
     "output_type": "display_data"
    },
    {
     "data": {
      "text/html": [
       "<table class=\"dataframe\">\n",
       "<caption>A tibble: 6 × 3</caption>\n",
       "<thead>\n",
       "\t<tr><th scope=col>time_bucket</th><th scope=col>mean_price</th><th scope=col>timestamp</th></tr>\n",
       "\t<tr><th scope=col>&lt;dbl&gt;</th><th scope=col>&lt;dbl&gt;</th><th scope=col>&lt;dttm&gt;</th></tr>\n",
       "</thead>\n",
       "<tbody>\n",
       "\t<tr><td>119308235</td><td>1.67375</td><td>2015-05-15 14:07:00</td></tr>\n",
       "\t<tr><td>119308236</td><td>1.66400</td><td>2015-05-15 14:07:12</td></tr>\n",
       "\t<tr><td>119308237</td><td>1.64500</td><td>2015-05-15 14:07:24</td></tr>\n",
       "\t<tr><td>119308238</td><td>1.64750</td><td>2015-05-15 14:07:36</td></tr>\n",
       "\t<tr><td>119308239</td><td>1.64000</td><td>2015-05-15 14:07:48</td></tr>\n",
       "\t<tr><td>119308240</td><td>1.65125</td><td>2015-05-15 14:08:00</td></tr>\n",
       "</tbody>\n",
       "</table>\n"
      ],
      "text/latex": [
       "A tibble: 6 × 3\n",
       "\\begin{tabular}{lll}\n",
       " time\\_bucket & mean\\_price & timestamp\\\\\n",
       " <dbl> & <dbl> & <dttm>\\\\\n",
       "\\hline\n",
       "\t 119308235 & 1.67375 & 2015-05-15 14:07:00\\\\\n",
       "\t 119308236 & 1.66400 & 2015-05-15 14:07:12\\\\\n",
       "\t 119308237 & 1.64500 & 2015-05-15 14:07:24\\\\\n",
       "\t 119308238 & 1.64750 & 2015-05-15 14:07:36\\\\\n",
       "\t 119308239 & 1.64000 & 2015-05-15 14:07:48\\\\\n",
       "\t 119308240 & 1.65125 & 2015-05-15 14:08:00\\\\\n",
       "\\end{tabular}\n"
      ],
      "text/markdown": [
       "\n",
       "A tibble: 6 × 3\n",
       "\n",
       "| time_bucket &lt;dbl&gt; | mean_price &lt;dbl&gt; | timestamp &lt;dttm&gt; |\n",
       "|---|---|---|\n",
       "| 119308235 | 1.67375 | 2015-05-15 14:07:00 |\n",
       "| 119308236 | 1.66400 | 2015-05-15 14:07:12 |\n",
       "| 119308237 | 1.64500 | 2015-05-15 14:07:24 |\n",
       "| 119308238 | 1.64750 | 2015-05-15 14:07:36 |\n",
       "| 119308239 | 1.64000 | 2015-05-15 14:07:48 |\n",
       "| 119308240 | 1.65125 | 2015-05-15 14:08:00 |\n",
       "\n"
      ],
      "text/plain": [
       "  time_bucket mean_price timestamp          \n",
       "1 119308235   1.67375    2015-05-15 14:07:00\n",
       "2 119308236   1.66400    2015-05-15 14:07:12\n",
       "3 119308237   1.64500    2015-05-15 14:07:24\n",
       "4 119308238   1.64750    2015-05-15 14:07:36\n",
       "5 119308239   1.64000    2015-05-15 14:07:48\n",
       "6 119308240   1.65125    2015-05-15 14:08:00"
      ]
     },
     "metadata": {},
     "output_type": "display_data"
    },
    {
     "data": {
      "text/html": [
       "<style>\n",
       ".list-inline {list-style: none; margin:0; padding: 0}\n",
       ".list-inline>li {display: inline-block}\n",
       ".list-inline>li:not(:last-child)::after {content: \"\\00b7\"; padding: 0 .5ex}\n",
       "</style>\n",
       "<ol class=list-inline><li>45</li><li>3</li></ol>\n"
      ],
      "text/latex": [
       "\\begin{enumerate*}\n",
       "\\item 45\n",
       "\\item 3\n",
       "\\end{enumerate*}\n"
      ],
      "text/markdown": [
       "1. 45\n",
       "2. 3\n",
       "\n",
       "\n"
      ],
      "text/plain": [
       "[1] 45  3"
      ]
     },
     "metadata": {},
     "output_type": "display_data"
    },
    {
     "data": {
      "text/html": [
       "<style>\n",
       ".list-inline {list-style: none; margin:0; padding: 0}\n",
       ".list-inline>li {display: inline-block}\n",
       ".list-inline>li:not(:last-child)::after {content: \"\\00b7\"; padding: 0 .5ex}\n",
       "</style>\n",
       "<ol class=list-inline><li>45</li><li>3</li></ol>\n"
      ],
      "text/latex": [
       "\\begin{enumerate*}\n",
       "\\item 45\n",
       "\\item 3\n",
       "\\end{enumerate*}\n"
      ],
      "text/markdown": [
       "1. 45\n",
       "2. 3\n",
       "\n",
       "\n"
      ],
      "text/plain": [
       "[1] 45  3"
      ]
     },
     "metadata": {},
     "output_type": "display_data"
    },
    {
     "data": {
      "text/html": [
       "0"
      ],
      "text/latex": [
       "0"
      ],
      "text/markdown": [
       "0"
      ],
      "text/plain": [
       "[1] 0"
      ]
     },
     "metadata": {},
     "output_type": "display_data"
    },
    {
     "data": {
      "text/html": [
       "0"
      ],
      "text/latex": [
       "0"
      ],
      "text/markdown": [
       "0"
      ],
      "text/plain": [
       "[1] 0"
      ]
     },
     "metadata": {},
     "output_type": "display_data"
    }
   ],
   "source": [
    "tail(Snow_Sky_WIN_df)\n",
    "tail(Snow_Sky_PLACE_df)\n",
    "\n",
    "head(Snow_Sky_WIN_df)\n",
    "head(Snow_Sky_PLACE_df)\n",
    "dim(Snow_Sky_WIN_df)\n",
    "dim(Snow_Sky_PLACE_df)\n",
    "\n",
    "# check duplicates in both dfs\n",
    "\n",
    "sum(duplicated(Snow_Sky_WIN_df))\n",
    "\n",
    "sum(duplicated(Snow_Sky_PLACE_df))"
   ]
  },
  {
   "cell_type": "code",
   "execution_count": 22,
   "metadata": {
    "vscode": {
     "languageId": "r"
    }
   },
   "outputs": [
    {
     "data": {
      "image/png": "[encoded data removed]",
      "text/plain": [
       "Plot with title \"SNOW SKY Differenced Price Time Series\""
      ]
     },
     "metadata": {
      "image/png": {
       "height": 420,
       "width": 420
      }
     },
     "output_type": "display_data"
    },
    {
     "data": {
      "image/png": "[encoded data removed]",
      "text/plain": [
       "Plot with title \"SNOW SKY Differenced Price Time Series\""
      ]
     },
     "metadata": {
      "image/png": {
       "height": 420,
       "width": 420
      }
     },
     "output_type": "display_data"
    }
   ],
   "source": [
    "plot(snow_sky_W_diff1, main=\"SNOW SKY Differenced Price Time Series\", xlab=\"Time\", ylab=\"Differenced Price\", type=\"l\")\n",
    "\n",
    "plot(snow_sky_P_diff1, main=\"SNOW SKY Differenced Price Time Series\", xlab=\"Time\", ylab=\"Differenced Price\", type=\"l\")"
   ]
  },
  {
   "cell_type": "code",
   "execution_count": 23,
   "metadata": {
    "vscode": {
     "languageId": "r"
    }
   },
   "outputs": [
    {
     "name": "stdout",
     "output_type": "stream",
     "text": [
      "\n",
      "\tAugmented Dickey-Fuller Test\n",
      "\n",
      "data:  snow_sky_W_diff1\n",
      "Dickey-Fuller = -3.045, Lag order = 3, p-value = 0.1601\n",
      "alternative hypothesis: stationary\n",
      "\n",
      "\n",
      "\tAugmented Dickey-Fuller Test\n",
      "\n",
      "data:  snow_sky_P_diff1\n",
      "Dickey-Fuller = -2.8059, Lag order = 3, p-value = 0.2548\n",
      "alternative hypothesis: stationary\n",
      "\n"
     ]
    }
   ],
   "source": [
    "adf_result_diff <- adf.test(snow_sky_W_diff1, alternative = \"stationary\")\n",
    "print(adf_result_diff)\n",
    "\n",
    "adf_result_diff_P <- adf.test(snow_sky_P_diff1, alternative = \"stationary\")\n",
    "print(adf_result_diff_P)"
   ]
  },
  {
   "cell_type": "markdown",
   "metadata": {},
   "source": [
    "#P-Value > 0.05, hence we take do another differential"
   ]
  },
  {
   "cell_type": "code",
   "execution_count": 24,
   "metadata": {
    "vscode": {
     "languageId": "r"
    }
   },
   "outputs": [],
   "source": [
    "snow_sky_W_diff2 <- diff(snow_sky_W_diff1, lag = 1)\n",
    "\n",
    "snow_sky_P_diff2 <- diff(snow_sky_P_diff1, lag = 1)"
   ]
  },
  {
   "cell_type": "code",
   "execution_count": 25,
   "metadata": {
    "vscode": {
     "languageId": "r"
    }
   },
   "outputs": [
    {
     "data": {
      "text/plain": [
       "\n",
       "\tAugmented Dickey-Fuller Test\n",
       "\n",
       "data:  snow_sky_W_diff2\n",
       "Dickey-Fuller = -4.1923, Lag order = 3, p-value = 0.01125\n",
       "alternative hypothesis: stationary\n"
      ]
     },
     "metadata": {},
     "output_type": "display_data"
    },
    {
     "name": "stderr",
     "output_type": "stream",
     "text": [
      "Warning message in adf.test(snow_sky_P_diff2, alternative = \"stationary\"):\n",
      "\"p-value smaller than printed p-value\"\n"
     ]
    },
    {
     "data": {
      "text/plain": [
       "\n",
       "\tAugmented Dickey-Fuller Test\n",
       "\n",
       "data:  snow_sky_P_diff2\n",
       "Dickey-Fuller = -4.5149, Lag order = 3, p-value = 0.01\n",
       "alternative hypothesis: stationary\n"
      ]
     },
     "metadata": {},
     "output_type": "display_data"
    }
   ],
   "source": [
    "adf.test(snow_sky_W_diff2, alternative = \"stationary\")\n",
    "\n",
    "adf.test(snow_sky_P_diff2, alternative = \"stationary\")"
   ]
  },
  {
   "cell_type": "markdown",
   "metadata": {},
   "source": [
    "### VAR MODEL FOR WIN MARKET AND PLACE MARKET\n"
   ]
  },
  {
   "cell_type": "markdown",
   "metadata": {},
   "source": []
  },
  {
   "cell_type": "code",
   "execution_count": 26,
   "metadata": {
    "vscode": {
     "languageId": "r"
    }
   },
   "outputs": [
    {
     "data": {
      "text/html": [
       "43"
      ],
      "text/latex": [
       "43"
      ],
      "text/markdown": [
       "43"
      ],
      "text/plain": [
       "[1] 43"
      ]
     },
     "metadata": {},
     "output_type": "display_data"
    },
    {
     "data": {
      "text/html": [
       "43"
      ],
      "text/latex": [
       "43"
      ],
      "text/markdown": [
       "43"
      ],
      "text/plain": [
       "[1] 43"
      ]
     },
     "metadata": {},
     "output_type": "display_data"
    }
   ],
   "source": [
    "# Check the size of both the time series\n",
    "\n",
    "length(snow_sky_W_diff2)\n",
    "length(snow_sky_P_diff2)"
   ]
  },
  {
   "cell_type": "code",
   "execution_count": 27,
   "metadata": {
    "vscode": {
     "languageId": "r"
    }
   },
   "outputs": [
    {
     "name": "stderr",
     "output_type": "stream",
     "text": [
      "Loading required package: MASS\n",
      "\n",
      "\n",
      "Attaching package: 'MASS'\n",
      "\n",
      "\n",
      "The following object is masked from 'package:dplyr':\n",
      "\n",
      "    select\n",
      "\n",
      "\n",
      "Loading required package: strucchange\n",
      "\n",
      "Loading required package: sandwich\n",
      "\n",
      "\n",
      "Attaching package: 'strucchange'\n",
      "\n",
      "\n",
      "The following object is masked from 'package:stringr':\n",
      "\n",
      "    boundary\n",
      "\n",
      "\n",
      "Loading required package: urca\n",
      "\n",
      "Loading required package: lmtest\n",
      "\n"
     ]
    }
   ],
   "source": [
    "# Loading required package and importing data\n",
    "# install.packages(\"vars\")\n",
    "# install.packages(\"tseries\")\n",
    "# install.packages(\"quantmod\")\n",
    "library(vars)\n",
    "library(tseries)\n",
    "library(quantmod)"
   ]
  },
  {
   "cell_type": "code",
   "execution_count": 58,
   "metadata": {
    "vscode": {
     "languageId": "r"
    }
   },
   "outputs": [
    {
     "data": {
      "text/plain": [
       "\n",
       "t test of coefficients:\n",
       "\n",
       "                                        Estimate  Std. Error t value Pr(>|t|)  \n",
       "snow_sky_W_diff2:(Intercept)          0.00033786  0.00681766  0.0496  0.96089  \n",
       "snow_sky_W_diff2:snow_sky_W_diff2.l1 -0.84786183  0.31209175 -2.7167  0.01204 *\n",
       "snow_sky_W_diff2:snow_sky_P_diff2.l1  0.66313491  1.07577551  0.6164  0.54342  \n",
       "snow_sky_W_diff2:snow_sky_W_diff2.l2 -0.83422805  0.39995109 -2.0858  0.04780 *\n",
       "snow_sky_W_diff2:snow_sky_P_diff2.l2  0.49834603  1.24610714  0.3999  0.69275  \n",
       "snow_sky_W_diff2:snow_sky_W_diff2.l3 -0.62497149  0.40993808 -1.5246  0.14044  \n",
       "snow_sky_W_diff2:snow_sky_P_diff2.l3  0.98987228  1.19660986  0.8272  0.41626  \n",
       "snow_sky_W_diff2:snow_sky_W_diff2.l4 -0.60480323  0.42441665 -1.4250  0.16703  \n",
       "snow_sky_W_diff2:snow_sky_P_diff2.l4  0.67474329  1.18830813  0.5678  0.57543  \n",
       "snow_sky_W_diff2:snow_sky_W_diff2.l5 -0.64308894  0.39175679 -1.6416  0.11372  \n",
       "snow_sky_W_diff2:snow_sky_P_diff2.l5  0.76586004  1.01782010  0.7525  0.45910  \n",
       "snow_sky_W_diff2:snow_sky_W_diff2.l6 -0.35273019  0.31104328 -1.1340  0.26799  \n",
       "snow_sky_W_diff2:snow_sky_P_diff2.l6  0.14172652  0.83346702  0.1700  0.86640  \n",
       "snow_sky_P_diff2:(Intercept)          0.00028874  0.00174099  0.1658  0.86966  \n",
       "snow_sky_P_diff2:snow_sky_W_diff2.l1 -0.03000260  0.07969749 -0.3765  0.70989  \n",
       "snow_sky_P_diff2:snow_sky_P_diff2.l1 -0.35429899  0.27471603 -1.2897  0.20945  \n",
       "snow_sky_P_diff2:snow_sky_W_diff2.l2 -0.09910076  0.10213374 -0.9703  0.34157  \n",
       "snow_sky_P_diff2:snow_sky_P_diff2.l2 -0.20338617  0.31821287 -0.6392  0.52878  \n",
       "snow_sky_P_diff2:snow_sky_W_diff2.l3 -0.01720220  0.10468407 -0.1643  0.87085  \n",
       "snow_sky_P_diff2:snow_sky_P_diff2.l3 -0.07245092  0.30557297 -0.2371  0.81459  \n",
       "snow_sky_P_diff2:snow_sky_W_diff2.l4 -0.08530265  0.10838140 -0.7871  0.43895  \n",
       "snow_sky_P_diff2:snow_sky_P_diff2.l4  0.09943877  0.30345299  0.3277  0.74599  \n",
       "snow_sky_P_diff2:snow_sky_W_diff2.l5 -0.26204259  0.10004120 -2.6193  0.01503 *\n",
       "snow_sky_P_diff2:snow_sky_P_diff2.l5  0.35821561  0.25991622  1.3782  0.18086  \n",
       "snow_sky_P_diff2:snow_sky_W_diff2.l6 -0.11434668  0.07942975 -1.4396  0.16290  \n",
       "snow_sky_P_diff2:snow_sky_P_diff2.l6 -0.12445933  0.21283879 -0.5848  0.56417  \n",
       "---\n",
       "Signif. codes:  0 '***' 0.001 '**' 0.01 '*' 0.05 '.' 0.1 ' ' 1\n"
      ]
     },
     "metadata": {},
     "output_type": "display_data"
    },
    {
     "data": {
      "text/plain": [
       "$Granger\n",
       "\n",
       "\tGranger causality H0: snow_sky_W_diff2 do not Granger-cause\n",
       "\tsnow_sky_P_diff2\n",
       "\n",
       "data:  VAR object VAR_est\n",
       "F-Test = 2.1306, df1 = 6, df2 = 48, p-value = 0.06681\n",
       "\n"
      ]
     },
     "metadata": {},
     "output_type": "display_data"
    },
    {
     "data": {
      "text/plain": [
       "$Granger\n",
       "\n",
       "\tGranger causality H0: snow_sky_P_diff2 do not Granger-cause\n",
       "\tsnow_sky_W_diff2\n",
       "\n",
       "data:  VAR object VAR_est\n",
       "F-Test = 0.18725, df1 = 6, df2 = 48, p-value = 0.979\n",
       "\n"
      ]
     },
     "metadata": {},
     "output_type": "display_data"
    }
   ],
   "source": [
    "# Estimating vector autoregression and testing for causality\n",
    "\n",
    "VAR_est <- VAR(cbind(snow_sky_W_diff2,snow_sky_P_diff2), ic=\"AIC\", lag.max = 6)\n",
    "coeftest(VAR_est)\n",
    "causality(VAR_est, cause=\"snow_sky_W_diff2\")[\"Granger\"]\n",
    "causality(VAR_est, cause=\"snow_sky_P_diff2\")[\"Granger\"]\n",
    "\n",
    "# Interpretation: The Granger-causality test states that at the 95% confidence interval, oil returns do significantly Granger-cause the inflation rate but not vice versa.\n",
    "\n"
   ]
  },
  {
   "cell_type": "code",
   "execution_count": 59,
   "metadata": {
    "vscode": {
     "languageId": "r"
    }
   },
   "outputs": [
    {
     "data": {
      "text/plain": [
       "\n",
       "VAR Estimation Results:\n",
       "========================= \n",
       "Endogenous variables: snow_sky_W_diff2, snow_sky_P_diff2 \n",
       "Deterministic variables: const \n",
       "Sample size: 37 \n",
       "Log Likelihood: 215.235 \n",
       "Roots of the characteristic polynomial:\n",
       "0.8851 0.8851 0.8503 0.8503 0.8311 0.8311 0.7776 0.7776 0.7108 0.7108 0.7092 0.7092\n",
       "Call:\n",
       "VAR(y = cbind(snow_sky_W_diff2, snow_sky_P_diff2), lag.max = 6, \n",
       "    ic = \"AIC\")\n",
       "\n",
       "\n",
       "Estimation results for equation snow_sky_W_diff2: \n",
       "================================================= \n",
       "snow_sky_W_diff2 = snow_sky_W_diff2.l1 + snow_sky_P_diff2.l1 + snow_sky_W_diff2.l2 + snow_sky_P_diff2.l2 + snow_sky_W_diff2.l3 + snow_sky_P_diff2.l3 + snow_sky_W_diff2.l4 + snow_sky_P_diff2.l4 + snow_sky_W_diff2.l5 + snow_sky_P_diff2.l5 + snow_sky_W_diff2.l6 + snow_sky_P_diff2.l6 + const \n",
       "\n",
       "                      Estimate Std. Error t value Pr(>|t|)  \n",
       "snow_sky_W_diff2.l1 -0.8478618  0.3120918  -2.717   0.0120 *\n",
       "snow_sky_P_diff2.l1  0.6631349  1.0757755   0.616   0.5434  \n",
       "snow_sky_W_diff2.l2 -0.8342280  0.3999511  -2.086   0.0478 *\n",
       "snow_sky_P_diff2.l2  0.4983460  1.2461071   0.400   0.6928  \n",
       "snow_sky_W_diff2.l3 -0.6249715  0.4099381  -1.525   0.1404  \n",
       "snow_sky_P_diff2.l3  0.9898723  1.1966099   0.827   0.4163  \n",
       "snow_sky_W_diff2.l4 -0.6048032  0.4244166  -1.425   0.1670  \n",
       "snow_sky_P_diff2.l4  0.6747433  1.1883081   0.568   0.5754  \n",
       "snow_sky_W_diff2.l5 -0.6430889  0.3917568  -1.642   0.1137  \n",
       "snow_sky_P_diff2.l5  0.7658600  1.0178201   0.752   0.4591  \n",
       "snow_sky_W_diff2.l6 -0.3527302  0.3110433  -1.134   0.2680  \n",
       "snow_sky_P_diff2.l6  0.1417265  0.8334670   0.170   0.8664  \n",
       "const                0.0003379  0.0068177   0.050   0.9609  \n",
       "---\n",
       "Signif. codes:  0 '***' 0.001 '**' 0.01 '*' 0.05 '.' 0.1 ' ' 1\n",
       "\n",
       "\n",
       "Residual standard error: 0.04129 on 24 degrees of freedom\n",
       "Multiple R-Squared: 0.4629,\tAdjusted R-squared: 0.1944 \n",
       "F-statistic: 1.724 on 12 and 24 DF,  p-value: 0.1238 \n",
       "\n",
       "\n",
       "Estimation results for equation snow_sky_P_diff2: \n",
       "================================================= \n",
       "snow_sky_P_diff2 = snow_sky_W_diff2.l1 + snow_sky_P_diff2.l1 + snow_sky_W_diff2.l2 + snow_sky_P_diff2.l2 + snow_sky_W_diff2.l3 + snow_sky_P_diff2.l3 + snow_sky_W_diff2.l4 + snow_sky_P_diff2.l4 + snow_sky_W_diff2.l5 + snow_sky_P_diff2.l5 + snow_sky_W_diff2.l6 + snow_sky_P_diff2.l6 + const \n",
       "\n",
       "                      Estimate Std. Error t value Pr(>|t|)  \n",
       "snow_sky_W_diff2.l1 -0.0300026  0.0796975  -0.376    0.710  \n",
       "snow_sky_P_diff2.l1 -0.3542990  0.2747160  -1.290    0.209  \n",
       "snow_sky_W_diff2.l2 -0.0991008  0.1021337  -0.970    0.342  \n",
       "snow_sky_P_diff2.l2 -0.2033862  0.3182129  -0.639    0.529  \n",
       "snow_sky_W_diff2.l3 -0.0172022  0.1046841  -0.164    0.871  \n",
       "snow_sky_P_diff2.l3 -0.0724509  0.3055730  -0.237    0.815  \n",
       "snow_sky_W_diff2.l4 -0.0853027  0.1083814  -0.787    0.439  \n",
       "snow_sky_P_diff2.l4  0.0994388  0.3034530   0.328    0.746  \n",
       "snow_sky_W_diff2.l5 -0.2620426  0.1000412  -2.619    0.015 *\n",
       "snow_sky_P_diff2.l5  0.3582156  0.2599162   1.378    0.181  \n",
       "snow_sky_W_diff2.l6 -0.1143467  0.0794297  -1.440    0.163  \n",
       "snow_sky_P_diff2.l6 -0.1244593  0.2128388  -0.585    0.564  \n",
       "const                0.0002887  0.0017410   0.166    0.870  \n",
       "---\n",
       "Signif. codes:  0 '***' 0.001 '**' 0.01 '*' 0.05 '.' 0.1 ' ' 1\n",
       "\n",
       "\n",
       "Residual standard error: 0.01054 on 24 degrees of freedom\n",
       "Multiple R-Squared: 0.6287,\tAdjusted R-squared: 0.443 \n",
       "F-statistic: 3.386 on 12 and 24 DF,  p-value: 0.005307 \n",
       "\n",
       "\n",
       "\n",
       "Covariance matrix of residuals:\n",
       "                 snow_sky_W_diff2 snow_sky_P_diff2\n",
       "snow_sky_W_diff2        0.0017050        0.0003426\n",
       "snow_sky_P_diff2        0.0003426        0.0001112\n",
       "\n",
       "Correlation matrix of residuals:\n",
       "                 snow_sky_W_diff2 snow_sky_P_diff2\n",
       "snow_sky_W_diff2            1.000            0.787\n",
       "snow_sky_P_diff2            0.787            1.000\n",
       "\n"
      ]
     },
     "metadata": {},
     "output_type": "display_data"
    }
   ],
   "source": [
    "summary(VAR_est)"
   ]
  },
  {
   "cell_type": "code",
   "execution_count": 48,
   "metadata": {
    "vscode": {
     "languageId": "r"
    }
   },
   "outputs": [
    {
     "data": {
      "image/png": "[encoded data removed]",
      "text/plain": [
       "plot without title"
      ]
     },
     "metadata": {
      "image/png": {
       "height": 420,
       "width": 420
      }
     },
     "output_type": "display_data"
    },
    {
     "data": {
      "image/png": "[encoded data removed]",
      "text/plain": [
       "plot without title"
      ]
     },
     "metadata": {
      "image/png": {
       "height": 420,
       "width": 420
      }
     },
     "output_type": "display_data"
    }
   ],
   "source": [
    "# Degression: Plotting impulse response functions\n",
    "plot(irf(VAR_est, impulse=\"snow_sky_W_diff2\", response=\"snow_sky_P_diff2\"))\n",
    "plot(irf(VAR_est, impulse=\"snow_sky_P_diff2\", response=\"snow_sky_W_diff2\"))\n",
    "\n",
    "# Interpretation: A shock in the inflation rate does not have an effect on oil returns, whereas a shock in oil returns has a positive effect on the inflation rate in the first months after the shock."
   ]
  },
  {
   "cell_type": "code",
   "execution_count": null,
   "metadata": {
    "vscode": {
     "languageId": "r"
    }
   },
   "outputs": [],
   "source": []
  },
  {
   "cell_type": "code",
   "execution_count": null,
   "metadata": {
    "vscode": {
     "languageId": "r"
    }
   },
   "outputs": [],
   "source": []
  },
  {
   "cell_type": "code",
   "execution_count": null,
   "metadata": {
    "vscode": {
     "languageId": "r"
    }
   },
   "outputs": [],
   "source": []
  },
  {
   "cell_type": "code",
   "execution_count": null,
   "metadata": {
    "vscode": {
     "languageId": "r"
    }
   },
   "outputs": [],
   "source": []
  },
  {
   "cell_type": "code",
   "execution_count": null,
   "metadata": {
    "vscode": {
     "languageId": "r"
    }
   },
   "outputs": [],
   "source": []
  },
  {
   "cell_type": "code",
   "execution_count": null,
   "metadata": {
    "vscode": {
     "languageId": "r"
    }
   },
   "outputs": [],
   "source": []
  },
  {
   "cell_type": "code",
   "execution_count": null,
   "metadata": {
    "vscode": {
     "languageId": "r"
    }
   },
   "outputs": [],
   "source": []
  },
  {
   "cell_type": "code",
   "execution_count": null,
   "metadata": {
    "vscode": {
     "languageId": "r"
    }
   },
   "outputs": [],
   "source": []
  },
  {
   "cell_type": "code",
   "execution_count": null,
   "metadata": {
    "vscode": {
     "languageId": "r"
    }
   },
   "outputs": [],
   "source": []
  }
 ],
 "metadata": {
  "kernelspec": {
   "display_name": "R",
   "language": "R",
   "name": "ir"
  },
  "language_info": {
   "codemirror_mode": "r",
   "file_extension": ".r",
   "mimetype": "text/x-r-source",
   "name": "R",
   "pygments_lexer": "r",
   "version": "4.3.0"
  }
 },
 "nbformat": 4,
 "nbformat_minor": 4
}
