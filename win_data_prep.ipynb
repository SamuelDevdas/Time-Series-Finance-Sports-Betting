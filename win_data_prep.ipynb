{
 "cells": [
  {
   "cell_type": "code",
   "execution_count": 2,
   "metadata": {
    "editable": true,
    "slideshow": {
     "slide_type": ""
    },
    "tags": [],
    "vscode": {
     "languageId": "r"
    }
   },
   "outputs": [
    {
     "name": "stderr",
     "output_type": "stream",
     "text": [
      "Installing package into 'C:/Users/samue/AppData/Local/R/win-library/4.4'\n",
      "(as 'lib' is unspecified)\n",
      "\n",
      "Installing package into 'C:/Users/samue/AppData/Local/R/win-library/4.4'\n",
      "(as 'lib' is unspecified)\n",
      "\n",
      "Installing package into 'C:/Users/samue/AppData/Local/R/win-library/4.4'\n",
      "(as 'lib' is unspecified)\n",
      "\n",
      "Installing package into 'C:/Users/samue/AppData/Local/R/win-library/4.4'\n",
      "(as 'lib' is unspecified)\n",
      "\n",
      "Installing package into 'C:/Users/samue/AppData/Local/R/win-library/4.4'\n",
      "(as 'lib' is unspecified)\n",
      "\n",
      "Installing package into 'C:/Users/samue/AppData/Local/R/win-library/4.4'\n",
      "(as 'lib' is unspecified)\n",
      "\n",
      "Installing package into 'C:/Users/samue/AppData/Local/R/win-library/4.4'\n",
      "(as 'lib' is unspecified)\n",
      "\n"
     ]
    }
   ],
   "source": [
    "\n",
    "# install.packages('dplyr')\n",
    "# install.packages('jsonlite')\n",
    "# install.packages('lubridate')\n",
    "# install.packages('ggplot2')\n",
    "# install.packages('quantmod')"
   ]
  },
  {
   "cell_type": "code",
   "execution_count": 13,
   "metadata": {
    "vscode": {
     "languageId": "r"
    }
   },
   "outputs": [
    {
     "name": "stderr",
     "output_type": "stream",
     "text": [
      "\n",
      "Attaching package: 'lubridate'\n",
      "\n",
      "\n",
      "The following objects are masked from 'package:base':\n",
      "\n",
      "    date, intersect, setdiff, union\n",
      "\n",
      "\n",
      "Loading required package: xts\n",
      "\n",
      "Loading required package: zoo\n",
      "\n",
      "\n",
      "Attaching package: 'zoo'\n",
      "\n",
      "\n",
      "The following objects are masked from 'package:base':\n",
      "\n",
      "    as.Date, as.Date.numeric\n",
      "\n",
      "\n",
      "\n",
      "######################### Warning from 'xts' package ##########################\n",
      "#                                                                             #\n",
      "# The dplyr lag() function breaks how base R's lag() function is supposed to  #\n",
      "# work, which breaks lag(my_xts). Calls to lag(my_xts) that you type or       #\n",
      "# source() into this session won't work correctly.                            #\n",
      "#                                                                             #\n",
      "# Use stats::lag() to make sure you're not using dplyr::lag(), or you can add #\n",
      "# conflictRules('dplyr', exclude = 'lag') to your .Rprofile to stop           #\n",
      "# dplyr from breaking base R's lag() function.                                #\n",
      "#                                                                             #\n",
      "# Code in packages is not affected. It's protected by R's namespace mechanism #\n",
      "# Set `options(xts.warn_dplyr_breaks_lag = FALSE)` to suppress this warning.  #\n",
      "#                                                                             #\n",
      "###############################################################################\n",
      "\n",
      "\n",
      "Attaching package: 'xts'\n",
      "\n",
      "\n",
      "The following objects are masked from 'package:dplyr':\n",
      "\n",
      "    first, last\n",
      "\n",
      "\n",
      "Loading required package: TTR\n",
      "\n",
      "Registered S3 method overwritten by 'quantmod':\n",
      "  method            from\n",
      "  as.zoo.data.frame zoo \n",
      "\n"
     ]
    }
   ],
   "source": [
    "library(dplyr)\n",
    "library(jsonlite)\n",
    "library(lubridate)\n",
    "library(ggplot2)\n",
    "library(quantmod)\n",
    "library(lifecycle)\n",
    "library(tidyselect)\n"
   ]
  },
  {
   "cell_type": "code",
   "execution_count": 14,
   "metadata": {
    "vscode": {
     "languageId": "r"
    }
   },
   "outputs": [],
   "source": [
    "# Load necessary libraries\n",
    "library(ggplot2)\n",
    "library(dplyr)\n",
    "library(jsonlite)\n",
    "\n",
    "# Read the CSV file into a dataframe\n",
    "WIN_PRO_df <- read.csv(\"win_data_pro.csv\")\n",
    "\n",
    "# Remove rows where any entry in the trades column contains 0\n",
    "WIN_PRO_df <- WIN_PRO_df %>% filter(trades != \"[]\")\n",
    "\n",
    "# Convert timestamp to POSIXct\n",
    "WIN_PRO_df <- WIN_PRO_df %>%\n",
    "  mutate(timestamp = as.POSIXct(timestamp_unix / 1000, origin = \"1970-01-01\", tz = \"GMT\"))\n",
    "\n",
    "# Convert the string representations to actual lists\n",
    "WIN_PRO_df$trades <- lapply(WIN_PRO_df$trades, function(x) fromJSON(as.character(x)))\n",
    "\n",
    "# Directly assign last_traded_price to price and set size to NA\n",
    "WIN_PRO_df <- WIN_PRO_df %>%\n",
    "  mutate(\n",
    "    size = NA,\n",
    "    price = last_traded_price\n",
    "  )\n",
    "\n",
    "# Remove trades column\n",
    "WIN_PRO_df <- WIN_PRO_df %>% select(-trades)\n",
    "\n",
    "# Read the horse name data into a dataframe\n",
    "horse_names_df <- data.frame(\n",
    "  horse_id = c(8421889, 5105924, 5465145, 3415981, 7560122, 7401388),\n",
    "  horse_name = c(\"Romsdal\", \"Brown Panther\", \"Havana Beat\", \"Times Up\", \"Snow Sky\", \"Island Remede\")\n",
    ")\n",
    "\n",
    "# Join the horse name data with the main dataframe\n",
    "WIN_PRO_df <- WIN_PRO_df %>%\n",
    "  left_join(horse_names_df, by = c(\"horse_id\" = \"horse_id\"))\n",
    "\n",
    "# Important instances to split df\n",
    "PP_t <- \"2015-05-15 16:10:00 GMT\"\n",
    "IP_t <- \"2015-05-15 16:16:10 GMT\"\n",
    "\n",
    "# Split the data frame into three parts based on the given times\n",
    "WIN_PRO_df_Morning <- WIN_PRO_df %>% filter(timestamp < PP_t)\n",
    "WIN_PRO_df_PP <- WIN_PRO_df %>% filter(timestamp >= PP_t & timestamp < IP_t)\n",
    "WIN_PRO_df_IP <- WIN_PRO_df %>% filter(timestamp >= IP_t)\n",
    "\n",
    "# Loop through each horse and create a plot and save dataframe\n",
    "for (horse in unique(WIN_PRO_df$horse_name)) {\n",
    "  horse_df <- WIN_PRO_df_PP %>% filter(horse_name == horse)\n",
    "  \n",
    "  # Calculate the size column for each horse within the loop\n",
    "  horse_df <- horse_df %>%\n",
    "    arrange(timestamp) %>%\n",
    "    mutate(size = traded_volume - lag(traded_volume, default = first(traded_volume)),\n",
    "           size = ifelse(size < 0, 0, size))\n",
    "  \n",
    "  # Print a sample of the horse-specific dataframe to check the size column\n",
    "  print(head(horse_df))\n",
    "  \n",
    "  # Save the horse-specific dataframe to a variable named after the horse\n",
    "  assign(paste0(gsub(\" \", \"_\", horse), \"_WIN_df\"), horse_df)\n",
    "  \n",
    "  # Create the plot with only price\n",
    "  p <- ggplot(data = horse_df, aes(x = timestamp, y = price)) +\n",
    "    geom_line() +\n",
    "    geom_point() +\n",
    "    labs(\n",
    "      title = paste(\"WIN market Price Over Time for\", horse),\n",
    "      x = \"Time\",\n",
    "      y = \"Price\"\n",
    "    ) +\n",
    "    theme_minimal() +\n",
    "    theme(\n",
    "      axis.text.x = element_text(angle = 45, hjust = 1),\n",
    "      legend.position = \"bottom\"\n",
    "    ) +\n",
    "    scale_x_datetime(date_breaks = \"1 min\", date_labels = \"%H:%M\")\n",
    "  \n",
    "  # Print the plot\n",
    "  print(p)\n",
    "}\n"
   ]
  },
  {
   "cell_type": "code",
   "execution_count": null,
   "metadata": {
    "vscode": {
     "languageId": "r"
    }
   },
   "outputs": [],
   "source": []
  }
 ],
 "metadata": {
  "kernelspec": {
   "display_name": "R",
   "language": "R",
   "name": "ir"
  },
  "language_info": {
   "codemirror_mode": "r",
   "file_extension": ".r",
   "mimetype": "text/x-r-source",
   "name": "R",
   "pygments_lexer": "r",
   "version": "3.6.1"
  }
 },
 "nbformat": 4,
 "nbformat_minor": 4
}
